{
  "nbformat": 4,
  "nbformat_minor": 0,
  "metadata": {
    "colab": {
      "provenance": [],
      "authorship_tag": "ABX9TyNWXPBuPJpIJIMf6zEJjT9d",
      "include_colab_link": true
    },
    "kernelspec": {
      "name": "python3",
      "display_name": "Python 3"
    },
    "language_info": {
      "name": "python"
    }
  },
  "cells": [
    {
      "cell_type": "markdown",
      "metadata": {
        "id": "view-in-github",
        "colab_type": "text"
      },
      "source": [
        "<a href=\"https://colab.research.google.com/github/kauefs/ML/blob/%40/notebooks/FakeNews.ipynb\" target=\"_parent\"><img src=\"https://colab.research.google.com/assets/colab-badge.svg\" alt=\"Open In Colab\"/></a>"
      ]
    },
    {
      "cell_type": "markdown",
      "source": [
        "<center><a href=https://sigmoidal.ai/><img alt=SigMoidal src=https://raw.githubusercontent.com/carlosfab/escola-data-science/master/img/novo_logo_bg_escuro.png width=50%></a></center>\n",
        "\n",
        "<center><a href=https://sigmoidal.ai/><img src=https://raw.githubusercontent.com/carlosfab/escola-data-science/master/img/eds.png></a></center>\n",
        "\n",
        "$$12\\ October\\ 2024$$"
      ],
      "metadata": {
        "id": "XeD_sHuJ3y7y"
      }
    },
    {
      "cell_type": "markdown",
      "source": [
        "---\n",
        "[![ƊⱭȾɅViƧi🧿Ƞ](https://img.shields.io/badge/ƊⱭȾɅViƧi🧿Ƞ&trade;-0065FF?style=plastic)](https://datavision.one/)\n",
        "[![GitHub](  https://img.shields.io/badge/-000000?logo=github&logoColor=FFFFFF)](https://github.com/kauefs/)\n",
        "[![Medium](  https://img.shields.io/badge/-000000?logo=medium&logoColor=FFFFFF)](https://medium.com/@kauefs)\n",
        "[![LinkedIn](https://img.shields.io/badge/-0077B5?logo=linkedin&logoColor=FFFFFF)](https://www.linkedin.com/in/kauefs/)\n",
        "[![Python](  https://img.shields.io/badge/-3-4584B6?logo=python&logoColor=FFDE57&labelColor=4584B6&color=646464)](https://www.python.org/)\n",
        "[![License]( https://img.shields.io/badge/Apache--2.0-D22128?style=flat&logo=apache&logoColor=CB2138&label=License&labelColor=6D6E71&color=D22128)](https://www.apache.org/licenses/LICENSE-2.0)\n",
        "\n",
        "# Fake News Classifier\n",
        "\n",
        "Vive**-**se na era digital, onde a informação está mais acessível do que nunca, em processo contínuo, ficando cada vez mais acessível, de forma ágil **&** ampla. Apesar dos benefícios, também trazem problemas **&** riscos, como as ***Fake News***.\n",
        "\n",
        "<center>\n",
        "    <img src=https://image.freepik.com/free-photo/woman-reading-newspaper_53876-13446.jpg>\n",
        "</center>\n",
        "\n",
        "Em uma era de informação, desinformação acaba sendo o maior problema. Notícias falsas podem ir desde um número diferente em uma estatística apresentada, até a notícia de uma acontecimento completamente falso.\n",
        "\n",
        "## Como isso influencia o cotidiano**?**\n",
        "\n",
        "As pessoas tendem a acreditar nos grandes veículos de mídia, ou em pessoas do ciclo de amizade que encaminham notícias em redes sociais. Dessa forma, cria**-**se hábito de não checar as fontes, acreditando **&** disseminando notícias falsas, por vezes sem saber, podendo se tornar grande problema ao afetar o resultado de algo importante no bem comum da sociedade, como resultados de eleições, opinião pública sobre determinados assunto, políticas públicas, e até pessoas públicas, sejam elas do meio político, artístico, jornalístico, ou qualquer outro.\n",
        "\n",
        "## Projeto\n",
        "\n",
        "Hoje em dia, pode**-**se contar com ferramentas que ajudam a identificar e a filtrar notícias falsas. Técnicas de Machine Learning, como **Redes Neurais** facilitam a tarefa de vasculhar diversas fontes de notícias para descobrir o que é falso e o que é factual.\n",
        "\n",
        "Objetivo**:** treinar um modelo capaz de classificar notícias entre falsas ou factuais, com a melhor acurácia possível, usando a biblioteca ***Tensorflow*** para treinar Redes Neurais que façam esse trabalho.\n",
        "\n",
        "### Data\n",
        "O [conjunto de dados](https://www.kaggle.com/competitions/fake-news/data) possui 26 mil linhas **&** 5 colunas**:**\n",
        "\n",
        "* `id`**:**           id da notícia;\n",
        "* `title`**:**    título da notícia;\n",
        "* `author`**:**    autor da notícia;\n",
        "* `text`**:**      texto da notícia;\n",
        "* `label`**:**  variável alvo, dividida em**:**\n",
        "    - Fact = 0\n",
        "    - Fake = 1\n",
        "\n",
        "### Tratamento dos Dados\n",
        "\n",
        "Lidando com nossa linguagem natural em formato `string`, requisitando conhecimentos de NLP **(**Natural Language Processing**)** para tratar esses dados da melhor forma, para que possam ser passados pelo modelo com sucesso a fim de se obter os resultados que desejados.\n",
        "\n",
        "### Pré**-**Processamento de Strings **(**NLP**)**\n",
        "\n",
        "Projeto foca em ***Deep Learning*** com implementação de **Redes Neurais**, por isso, não extender**-**se**-**á em pré**-**processamento de Strings, embora seja ponto importante do projeto, sendo que o que se quer é simplificar o texto, para que seja mais fácil o modelo processá**-**lo **&** entendê**-**lo, utilizando a técnica ***Tokenizing*** **(**Tokenização**)**, separando longos textos de strings em pedaços de textos mais curtos **(**tokens**)**.\n",
        "\n",
        "<center>\n",
        "    <img src=https://www.kdnuggets.com/wp-content/uploads/text-tokens-tokenization-manning.jpg>\n",
        "</center>\n",
        "\n",
        "Referências**:**\n",
        "* [General Approach to Processing Text Data](https://www.kdnuggets.com/2017/12/general-approach-preprocessing-text-data.html)\n",
        "* [TensorFlow **&** Keras**:** Tokenization **&** Text Data Preparation](https://www.kdnuggets.com/2020/03/tensorflow-keras-tokenization-text-data-prep.html)\n",
        "* [Data Preparation for Variable Length Input Sequences](https://machinelearningmastery.com/data-preparation-variable-length-input-sequences-sequence-prediction/)\n",
        "* Kaggle**:**\n",
        "    - [`fillna`](https://www.kaggle.com/code/anuragraj03/fake-news-detection-competition)\n",
        "    - [`confusion_matrix`](https://www.kaggle.com/code/aishwarya2210/prediction-of-fake-news-model-comparison)\n",
        "\n",
        "### Preparando **&** Instanciando **&** Treinando Modelo\n",
        "\n",
        "Com os dados prontos, é feito RandomSearch para encontrar os melhores parâmetros, em processo lento **&** externo; instanciado modelo que use os melhores parâmetros encontrados.\n",
        "\n",
        "Os resultados são promissores e, embora careçam de mais investigação, cumprem com o objetivo de demonstrar o poder das Redes Neurais.\n",
        "\n",
        "### Fazendo Previsões no Conjunto de Teste\n",
        "\n",
        "Por fim, tem**-**se PipeLine ideal para tratar os dados, após treino, ajustes e obtenção de resultados satisfatórios no conjunto de validação, com o modelo pronto, o qual será testado com dados completamente novos a ele, para fazer previsões e ver como ele se sai."
      ],
      "metadata": {
        "id": "a0b1rYeU38cb"
      }
    },
    {
      "cell_type": "code",
      "execution_count": 1,
      "metadata": {
        "colab": {
          "base_uri": "https://localhost:8080/"
        },
        "id": "PHZyDft33wR3",
        "outputId": "ef030297-8f82-424d-b351-df85d430f8ae"
      },
      "outputs": [
        {
          "output_type": "execute_result",
          "data": {
            "text/plain": [
              "((20800, 5), (5200, 4))"
            ]
          },
          "metadata": {},
          "execution_count": 1
        }
      ],
      "source": [
        "# Importing Libraries\n",
        "import warnings\n",
        "import  string\n",
        "import         numpy                             as   np\n",
        "import         pandas                            as   pd\n",
        "import matplotlib.pyplot                         as   plt\n",
        "import           seaborn                         as   sns\n",
        "import       nltk\n",
        "from         nltk.corpus                       import stopwords\n",
        "from   tensorflow                              import keras\n",
        "from   tensorflow.keras.preprocessing.text     import Tokenizer\n",
        "from   tensorflow.keras.preprocessing.sequence import pad_sequences\n",
        "from              keras.models                 import Sequential\n",
        "from              keras.layers                 import Embedding, Conv1D, GlobalMaxPooling1D, Dense\n",
        "from              keras.optimizers             import Adam\n",
        "from              keras.callbacks              import EarlyStopping\n",
        "from      sklearn.model_selection              import train_test_split\n",
        "from      sklearn.metrics                      import classification_report, confusion_matrix, ConfusionMatrixDisplay\n",
        "from      wordcloud                            import WordCloud, STOPWORDS\n",
        "from      sklearn.feature_extraction.text      import TfidfVectorizer, CountVectorizer\n",
        "# Warning Messages Filtering\n",
        "warnings.filterwarnings('ignore')\n",
        "# NoteBook Config:\n",
        "np.random.seed(42)\n",
        "sns.set_style(   )\n",
        "# Loading Data:\n",
        "A=pd.read_csv('https://www.dropbox.com/scl/fi/wfrq30mt1zivd15bwy4ce/train.csv?rlkey=ipvyqlupx724n9uu3ohwv44yq&st=4lwzfgkc&dl=1')\n",
        "E=pd.read_csv('https://www.dropbox.com/scl/fi/bk0hxxwz62eqzxunuz0ir/test.csv?rlkey=ft4j1kewegy91at8vzb195u15&st=wibyr8vu&dl=1' )\n",
        "# DataSets Shape:\n",
        "A.shape, E.shape"
      ]
    },
    {
      "cell_type": "code",
      "source": [
        "# Train DataSet Info:\n",
        "A.info()"
      ],
      "metadata": {
        "colab": {
          "base_uri": "https://localhost:8080/"
        },
        "id": "CZ_2K5Kv5Zk9",
        "outputId": "ecbc08b3-7756-40c6-e4c2-9648aba64079"
      },
      "execution_count": 2,
      "outputs": [
        {
          "output_type": "stream",
          "name": "stdout",
          "text": [
            "<class 'pandas.core.frame.DataFrame'>\n",
            "RangeIndex: 20800 entries, 0 to 20799\n",
            "Data columns (total 5 columns):\n",
            " #   Column  Non-Null Count  Dtype \n",
            "---  ------  --------------  ----- \n",
            " 0   id      20800 non-null  int64 \n",
            " 1   title   20242 non-null  object\n",
            " 2   author  18843 non-null  object\n",
            " 3   text    20761 non-null  object\n",
            " 4   label   20800 non-null  int64 \n",
            "dtypes: int64(2), object(3)\n",
            "memory usage: 812.6+ KB\n"
          ]
        }
      ]
    },
    {
      "cell_type": "code",
      "source": [
        "# Verifying Test DataSet:\n",
        "E.info()"
      ],
      "metadata": {
        "colab": {
          "base_uri": "https://localhost:8080/"
        },
        "id": "s4M3W5jOl_Wj",
        "outputId": "3734ee2b-01c0-488e-bdc4-a9b54eae18d6"
      },
      "execution_count": 3,
      "outputs": [
        {
          "output_type": "stream",
          "name": "stdout",
          "text": [
            "<class 'pandas.core.frame.DataFrame'>\n",
            "RangeIndex: 5200 entries, 0 to 5199\n",
            "Data columns (total 4 columns):\n",
            " #   Column  Non-Null Count  Dtype \n",
            "---  ------  --------------  ----- \n",
            " 0   id      5200 non-null   int64 \n",
            " 1   title   5078 non-null   object\n",
            " 2   author  4697 non-null   object\n",
            " 3   text    5193 non-null   object\n",
            "dtypes: int64(1), object(3)\n",
            "memory usage: 162.6+ KB\n"
          ]
        }
      ]
    },
    {
      "cell_type": "code",
      "source": [
        "# Filling Missing Data:\n",
        "A=A.fillna('')\n",
        "A.info()"
      ],
      "metadata": {
        "colab": {
          "base_uri": "https://localhost:8080/"
        },
        "id": "cKXcNUgGTXqy",
        "outputId": "ef0ad6b4-3b16-4bc8-c36b-6c3c8a79aaeb"
      },
      "execution_count": 4,
      "outputs": [
        {
          "output_type": "stream",
          "name": "stdout",
          "text": [
            "<class 'pandas.core.frame.DataFrame'>\n",
            "RangeIndex: 20800 entries, 0 to 20799\n",
            "Data columns (total 5 columns):\n",
            " #   Column  Non-Null Count  Dtype \n",
            "---  ------  --------------  ----- \n",
            " 0   id      20800 non-null  int64 \n",
            " 1   title   20800 non-null  object\n",
            " 2   author  20800 non-null  object\n",
            " 3   text    20800 non-null  object\n",
            " 4   label   20800 non-null  int64 \n",
            "dtypes: int64(2), object(3)\n",
            "memory usage: 812.6+ KB\n"
          ]
        }
      ]
    },
    {
      "cell_type": "code",
      "source": [
        "# Filling Missing Data:\n",
        "E=E.fillna('')\n",
        "E.info()"
      ],
      "metadata": {
        "colab": {
          "base_uri": "https://localhost:8080/"
        },
        "id": "NYNUeEtSmZ74",
        "outputId": "4991d3a0-9ed6-4947-8959-e359f04a37ce"
      },
      "execution_count": 5,
      "outputs": [
        {
          "output_type": "stream",
          "name": "stdout",
          "text": [
            "<class 'pandas.core.frame.DataFrame'>\n",
            "RangeIndex: 5200 entries, 0 to 5199\n",
            "Data columns (total 4 columns):\n",
            " #   Column  Non-Null Count  Dtype \n",
            "---  ------  --------------  ----- \n",
            " 0   id      5200 non-null   int64 \n",
            " 1   title   5200 non-null   object\n",
            " 2   author  5200 non-null   object\n",
            " 3   text    5200 non-null   object\n",
            "dtypes: int64(1), object(3)\n",
            "memory usage: 162.6+ KB\n"
          ]
        }
      ]
    },
    {
      "cell_type": "code",
      "source": [
        "A.head(1)"
      ],
      "metadata": {
        "colab": {
          "base_uri": "https://localhost:8080/",
          "height": 80
        },
        "id": "m5yYGBVeT7Vx",
        "outputId": "241b2700-6f01-4ac9-cd77-59206ae7ad4b"
      },
      "execution_count": 6,
      "outputs": [
        {
          "output_type": "execute_result",
          "data": {
            "text/plain": [
              "   id                                              title         author  \\\n",
              "0   0  House Dem Aide: We Didn’t Even See Comey’s Let...  Darrell Lucus   \n",
              "\n",
              "                                                text  label  \n",
              "0  House Dem Aide: We Didn’t Even See Comey’s Let...      1  "
            ],
            "text/html": [
              "\n",
              "  <div id=\"df-498b9c88-fa9b-4955-8114-904d7acdbc0e\" class=\"colab-df-container\">\n",
              "    <div>\n",
              "<style scoped>\n",
              "    .dataframe tbody tr th:only-of-type {\n",
              "        vertical-align: middle;\n",
              "    }\n",
              "\n",
              "    .dataframe tbody tr th {\n",
              "        vertical-align: top;\n",
              "    }\n",
              "\n",
              "    .dataframe thead th {\n",
              "        text-align: right;\n",
              "    }\n",
              "</style>\n",
              "<table border=\"1\" class=\"dataframe\">\n",
              "  <thead>\n",
              "    <tr style=\"text-align: right;\">\n",
              "      <th></th>\n",
              "      <th>id</th>\n",
              "      <th>title</th>\n",
              "      <th>author</th>\n",
              "      <th>text</th>\n",
              "      <th>label</th>\n",
              "    </tr>\n",
              "  </thead>\n",
              "  <tbody>\n",
              "    <tr>\n",
              "      <th>0</th>\n",
              "      <td>0</td>\n",
              "      <td>House Dem Aide: We Didn’t Even See Comey’s Let...</td>\n",
              "      <td>Darrell Lucus</td>\n",
              "      <td>House Dem Aide: We Didn’t Even See Comey’s Let...</td>\n",
              "      <td>1</td>\n",
              "    </tr>\n",
              "  </tbody>\n",
              "</table>\n",
              "</div>\n",
              "    <div class=\"colab-df-buttons\">\n",
              "\n",
              "  <div class=\"colab-df-container\">\n",
              "    <button class=\"colab-df-convert\" onclick=\"convertToInteractive('df-498b9c88-fa9b-4955-8114-904d7acdbc0e')\"\n",
              "            title=\"Convert this dataframe to an interactive table.\"\n",
              "            style=\"display:none;\">\n",
              "\n",
              "  <svg xmlns=\"http://www.w3.org/2000/svg\" height=\"24px\" viewBox=\"0 -960 960 960\">\n",
              "    <path d=\"M120-120v-720h720v720H120Zm60-500h600v-160H180v160Zm220 220h160v-160H400v160Zm0 220h160v-160H400v160ZM180-400h160v-160H180v160Zm440 0h160v-160H620v160ZM180-180h160v-160H180v160Zm440 0h160v-160H620v160Z\"/>\n",
              "  </svg>\n",
              "    </button>\n",
              "\n",
              "  <style>\n",
              "    .colab-df-container {\n",
              "      display:flex;\n",
              "      gap: 12px;\n",
              "    }\n",
              "\n",
              "    .colab-df-convert {\n",
              "      background-color: #E8F0FE;\n",
              "      border: none;\n",
              "      border-radius: 50%;\n",
              "      cursor: pointer;\n",
              "      display: none;\n",
              "      fill: #1967D2;\n",
              "      height: 32px;\n",
              "      padding: 0 0 0 0;\n",
              "      width: 32px;\n",
              "    }\n",
              "\n",
              "    .colab-df-convert:hover {\n",
              "      background-color: #E2EBFA;\n",
              "      box-shadow: 0px 1px 2px rgba(60, 64, 67, 0.3), 0px 1px 3px 1px rgba(60, 64, 67, 0.15);\n",
              "      fill: #174EA6;\n",
              "    }\n",
              "\n",
              "    .colab-df-buttons div {\n",
              "      margin-bottom: 4px;\n",
              "    }\n",
              "\n",
              "    [theme=dark] .colab-df-convert {\n",
              "      background-color: #3B4455;\n",
              "      fill: #D2E3FC;\n",
              "    }\n",
              "\n",
              "    [theme=dark] .colab-df-convert:hover {\n",
              "      background-color: #434B5C;\n",
              "      box-shadow: 0px 1px 3px 1px rgba(0, 0, 0, 0.15);\n",
              "      filter: drop-shadow(0px 1px 2px rgba(0, 0, 0, 0.3));\n",
              "      fill: #FFFFFF;\n",
              "    }\n",
              "  </style>\n",
              "\n",
              "    <script>\n",
              "      const buttonEl =\n",
              "        document.querySelector('#df-498b9c88-fa9b-4955-8114-904d7acdbc0e button.colab-df-convert');\n",
              "      buttonEl.style.display =\n",
              "        google.colab.kernel.accessAllowed ? 'block' : 'none';\n",
              "\n",
              "      async function convertToInteractive(key) {\n",
              "        const element = document.querySelector('#df-498b9c88-fa9b-4955-8114-904d7acdbc0e');\n",
              "        const dataTable =\n",
              "          await google.colab.kernel.invokeFunction('convertToInteractive',\n",
              "                                                    [key], {});\n",
              "        if (!dataTable) return;\n",
              "\n",
              "        const docLinkHtml = 'Like what you see? Visit the ' +\n",
              "          '<a target=\"_blank\" href=https://colab.research.google.com/notebooks/data_table.ipynb>data table notebook</a>'\n",
              "          + ' to learn more about interactive tables.';\n",
              "        element.innerHTML = '';\n",
              "        dataTable['output_type'] = 'display_data';\n",
              "        await google.colab.output.renderOutput(dataTable, element);\n",
              "        const docLink = document.createElement('div');\n",
              "        docLink.innerHTML = docLinkHtml;\n",
              "        element.appendChild(docLink);\n",
              "      }\n",
              "    </script>\n",
              "  </div>\n",
              "\n",
              "\n",
              "    </div>\n",
              "  </div>\n"
            ],
            "application/vnd.google.colaboratory.intrinsic+json": {
              "type": "dataframe",
              "variable_name": "A",
              "summary": "{\n  \"name\": \"A\",\n  \"rows\": 20800,\n  \"fields\": [\n    {\n      \"column\": \"id\",\n      \"properties\": {\n        \"dtype\": \"number\",\n        \"std\": 6004,\n        \"min\": 0,\n        \"max\": 20799,\n        \"num_unique_values\": 20800,\n        \"samples\": [\n          14649,\n          9231,\n          6473\n        ],\n        \"semantic_type\": \"\",\n        \"description\": \"\"\n      }\n    },\n    {\n      \"column\": \"title\",\n      \"properties\": {\n        \"dtype\": \"string\",\n        \"num_unique_values\": 19804,\n        \"samples\": [\n          \"Florida Republicans Voting for Hillary Clinton \\u00b7 Guardian Liberty Voice\",\n          \"A Suit Over Schiele Drawings Invokes New Law on Nazi-Looted Art - The New York Times\",\n          \"MMR Vaccines Cause 340% Increased Risk of Autism in African American Infants\"\n        ],\n        \"semantic_type\": \"\",\n        \"description\": \"\"\n      }\n    },\n    {\n      \"column\": \"author\",\n      \"properties\": {\n        \"dtype\": \"category\",\n        \"num_unique_values\": 4202,\n        \"samples\": [\n          \"OZbanislam\",\n          \"Julia Hahn\",\n          \"Cassandra Fairbanks\"\n        ],\n        \"semantic_type\": \"\",\n        \"description\": \"\"\n      }\n    },\n    {\n      \"column\": \"text\",\n      \"properties\": {\n        \"dtype\": \"string\",\n        \"num_unique_values\": 20387,\n        \"samples\": [\n          \"Multan a un ultrasur por lanzar a un jugador del Bar\\u00e7a al campo durante el partido Madrid-Legia EL PARTIDO SE CONSIDERABA DE ALTO RIESGO PARA LOS JUGADORES DEL BARCELONA Real Madrid \\nUn jugador barcelonista golpe\\u00f3 a varios jugadores durante el encuentro de la Champions que tuvo lugar ayer entre el Real Madrid y el Legia Varsovia despu\\u00e9s de ser arrojado desde la grada por un hincha madridista. \\nEl portero del Legia, muy molesto, intent\\u00f3 devolver el jugador a las gradas de una patada y se encar\\u00f3 con los Ultrasur, que ya preparaban a otro jugador para echarlo al campo y entorpecer el encuentro. En esta ocasi\\u00f3n pretend\\u00edan prenderlo con un mechero antes de lanzarlo al c\\u00e9sped. \\nLas autoridades han vuelto a pedir a los aficionados que dejen de lanzar cosas al campo como botellas, monedas y jugadores del Barcelona. El dispositivo de seguridad no puedo hacer nada por evitar que algunos hinchas introdujeran a jugadores barcelonistas a la grada, pues los llevaban camuflados dentro de bocadillos de gran tama\\u00f1o. \\nEl partido pudo ser reanudado cuando el \\u00e1rbitro apart\\u00f3 a un rinc\\u00f3n del c\\u00e9sped al jugador barcelonista.\",\n          \"Written by Eric Margolis   As a former soldier and war correspondent who has covered 14 conflicts, I look at all the media hoopla over tightening siege of Mosul, Iraq and shake my head. This western-organized \\u201cliberation\\u201d of Mosul is one of the bigger pieces of political-military theater that I\\u2019ve seen. Islamic State (IS), the defender of Mosul, is a paper tiger, blown out of all proportion by western media. IS is, as this writer has been saying for years, an armed mob made up of 20-something malcontents, religious fanatics, and modern-day anarchists. At its top is a cadre of former Iraqi Army officers with military experience. These former officers of Saddam Hussain are bent on revenge for the US destruction of their nation and the lynching of its late leader. But IS rank and file has no military training, little discipline, degraded communications, and ragged logistics. In fact, today\\u2019s Islamic State is what the Ottoman Empire used to term, \\u2018bashi-bazouks,\\u201d a collection of irregular cut-throats and scum of the gutter sent to punish and terrorize enemies by means of torture, rapine, looting, and arson. What has amazed me about the faux western war against ISIS is its leisurely nature, lack of \\u00e9lan , and hesitancy. In my view, ISIS was mostly created by the US and its allies as a weapon to be used against Syria\\u2019s government \\u2013 just as the Afghan mujahadin were used by the US and the Saudis to overthrow the Soviet-backed Afghan government. Israel tried the same tactics by helping create Hamas in Palestine and Hezbollah in Lebanon. Both were cultivated to split the PLO. ISIS is an ad hoc movement that wants to punish the West and the Saudis for the gross carnage they have inflicted on the Arab world. Western and Kurdish auxiliary forces have been sitting 1.5 hours drive from Mosul and the IS town of Raqqa for over a year. Instead, western \\u2013 mainly US \\u2013 warplanes have been gingerly bombing around these targets in what may be an effort to convince breakaway ISIS to rejoin US-led forces fight the Damascus regime. Note that ISIS does not appear to have ever attacked Israel though it is playing an important role in the destruction of Syria. Some reports say Israel is providing logistic and medical support for IS. The siege of Mosul is being played up by western media as a heroic second Stalingrad. Don\\u2019t be fooled. IS has only 3-5,000 lightly armed fighters in Mosul and Raqqa, maybe even less. The leaders of IS are likely long gone. IS has few heavy weapons, no air cover at all, and poor communications. Its rag-tag fighters will run out of ammunitions and explosives very quickly. Encircling Mosul are at least 50,000 western-led soldiers, backed by heavy artillery, rocket batteries, tanks, armored vehicles and awesome air power The western imperial forces are composed of tough Kurdish peshmerga fighters, Iraqi army and special forces, some Syrian Kurds, Iranian \\u2018volunteers\\u2019 irregular forces and at least 5,000 US combat troops called \\u201cadvisors\\u201d, plus small numbers of French, Canadian and British special forces. Hovering in the background are some thousands of Turkish troops, supported by armor and artillery ready to \\\"liberate\\\" Iraq \\u2013 which was once part of the Ottoman Empire. For the US, current military operations in Syria and Iraq are the realization of an imperialist\\u2019s fondest dream: native troops led by white officers, the model of the old British Indian Raj. Washington arms, trained, equips and financed all its native auxiliaries. The IS is caught in a dangerous dilemma. To be a political movement, it was delighted to control Iraq\\u2019s second largest city. But as a guerilla force, it should not have holed up in an urban area where it was highly vulnerable to concentrated air attack and being surrounded. This is what\\u2019s happening right now. In the mostly flat Fertile Crescent with too few trees, ground forces are totally vulnerable to air power, as the recent 1967, 1973 Israel-Arab wars and 2003 Iraq wars have shown. Dispersion and guerilla tactics are the only hope for those that lack air cover. IS forces would best advise to disperse across the region and continue their hit-and-run attacks. Otherwise, they risk being destroyed. But being mostly bloody-minded young fanatics, IS may not heed military logic and precedent in favor of making a last stand in the ruins of Mosul and Raqqa. When this happens, western leaders will compete to claim authorship of the faux crusade against the paper tiger of ISIS.   LewRockwell.com . Related\",\n          \"The   at the Democratic National Committee after an embarrassing breach of its email system continued on Tuesday with the departure of three senior officials. Amy Dacey, the committee\\u2019s chief executive Luis Miranda, its communications director and Brad Marshall, its chief financial officer, will leave amid a reshuffling of leadership positions, said Donna Brazile, the interim chairwoman. The departures came more than a week after WikiLeaks posted almost 20, 000 of the committee\\u2019s emails, a number of which revealed officials showing favoritism toward Hillary Clinton in her primary campaign against Senator Bernie Sanders of Vermont. The messages confirmed the concerns expressed by Mr. Sanders throughout the campaign, cast a cloud over the start of the Democratic National Convention in Philadelphia last week and led to the resignation of Representative Debbie Wasserman Schultz of Florida as the committee\\u2019s chairwoman. Ms. Brazile praised the outgoing staff members and made no mention of the controversy. \\u201cThanks in part to the hard work of Amy, Luis, and Brad, the Democratic Party has adopted the most progressive platform in history, has put itself in financial position to win in November, and has begun the important work of investing in state party partnerships,\\u201d she said in a statement. \\u201cI\\u2019m so grateful for their commitment to this cause, and I wish them continued success in the next chapter of their career. \\u201d American intelligence officials believe that the Russian government was behind the breach of the committee\\u2019s emails and documents, possibly as part of an effort to damage Mrs. Clinton and sow discord in the Democratic Party. An email from Mr. Marshall to Mark Paustenbach, a communications official, and Ms. Dacey suggesting that the committee promote questions about Mr. Sanders\\u2019s faith drew particular scorn from the senator and his supporters. \\u201cIt might may no difference, but for KY and WVA can we get someone to ask his belief. Does he believe in a God,\\u201d Mr. Marshall wrote, referring to Kentucky and West Virginia. \\u201cHe had skated on saying he has a Jewish heritage. I think I read he is an atheist. This could make several points difference with my peeps. \\u201d In May, Mr. Paustenbach wrote to Mr. Miranda about encouraging reporters to write that Mr. Sanders\\u2019s campaign was \\u201ca mess\\u201d after a glitch on the committee\\u2019s servers gave the Sanders campaign access to the Clinton campaign\\u2019s voter database. \\u201cWondering if there\\u2019s a good Bernie narrative for a story, which is that Bernie never ever had his act together, that his campaign was a mess,\\u201d Mr. Paustenbach wrote. Mr. Miranda wrote back: \\u201cTrue, but the Chair has been advised to not engage. So we\\u2019ll have to leave it alone. \\u201d The committee has since apologized to the Sanders campaign. To help fill the void, the committee announced, it is bringing on Tom McMahon, a former executive director of the committee, to lead a transition team.\"\n        ],\n        \"semantic_type\": \"\",\n        \"description\": \"\"\n      }\n    },\n    {\n      \"column\": \"label\",\n      \"properties\": {\n        \"dtype\": \"number\",\n        \"std\": 0,\n        \"min\": 0,\n        \"max\": 1,\n        \"num_unique_values\": 2,\n        \"samples\": [\n          0,\n          1\n        ],\n        \"semantic_type\": \"\",\n        \"description\": \"\"\n      }\n    }\n  ]\n}"
            }
          },
          "metadata": {},
          "execution_count": 6
        }
      ]
    },
    {
      "cell_type": "code",
      "source": [
        "A['title'][0]"
      ],
      "metadata": {
        "colab": {
          "base_uri": "https://localhost:8080/",
          "height": 35
        },
        "id": "Y27bdgwIT_rT",
        "outputId": "efa6a065-e131-4aa3-bea6-0b19f59a42e7"
      },
      "execution_count": 7,
      "outputs": [
        {
          "output_type": "execute_result",
          "data": {
            "text/plain": [
              "'House Dem Aide: We Didn’t Even See Comey’s Letter Until Jason Chaffetz Tweeted It'"
            ],
            "application/vnd.google.colaboratory.intrinsic+json": {
              "type": "string"
            }
          },
          "metadata": {},
          "execution_count": 7
        }
      ]
    },
    {
      "cell_type": "code",
      "source": [
        "A['text'][0]"
      ],
      "metadata": {
        "colab": {
          "base_uri": "https://localhost:8080/",
          "height": 154
        },
        "id": "HpuXmV6GUECG",
        "outputId": "d7753e52-f00b-46e1-9dd9-79aa2359a284"
      },
      "execution_count": 8,
      "outputs": [
        {
          "output_type": "execute_result",
          "data": {
            "text/plain": [
              "'House Dem Aide: We Didn’t Even See Comey’s Letter Until Jason Chaffetz Tweeted It By Darrell Lucus on October 30, 2016 Subscribe Jason Chaffetz on the stump in American Fork, Utah ( image courtesy Michael Jolley, available under a Creative Commons-BY license) \\nWith apologies to Keith Olbermann, there is no doubt who the Worst Person in The World is this week–FBI Director James Comey. But according to a House Democratic aide, it looks like we also know who the second-worst person is as well. It turns out that when Comey sent his now-infamous letter announcing that the FBI was looking into emails that may be related to Hillary Clinton’s email server, the ranking Democrats on the relevant committees didn’t hear about it from Comey. They found out via a tweet from one of the Republican committee chairmen. \\nAs we now know, Comey notified the Republican chairmen and Democratic ranking members of the House Intelligence, Judiciary, and Oversight committees that his agency was reviewing emails it had recently discovered in order to see if they contained classified information. Not long after this letter went out, Oversight Committee Chairman Jason Chaffetz set the political world ablaze with this tweet. FBI Dir just informed me, \"The FBI has learned of the existence of emails that appear to be pertinent to the investigation.\" Case reopened \\n— Jason Chaffetz (@jasoninthehouse) October 28, 2016 \\nOf course, we now know that this was not the case . Comey was actually saying that it was reviewing the emails in light of “an unrelated case”–which we now know to be Anthony Weiner’s sexting with a teenager. But apparently such little things as facts didn’t matter to Chaffetz. The Utah Republican had already vowed to initiate a raft of investigations if Hillary wins–at least two years’ worth, and possibly an entire term’s worth of them. Apparently Chaffetz thought the FBI was already doing his work for him–resulting in a tweet that briefly roiled the nation before cooler heads realized it was a dud. \\nBut according to a senior House Democratic aide, misreading that letter may have been the least of Chaffetz’ sins. That aide told Shareblue that his boss and other Democrats didn’t even know about Comey’s letter at the time–and only found out when they checked Twitter. “Democratic Ranking Members on the relevant committees didn’t receive Comey’s letter until after the Republican Chairmen. In fact, the Democratic Ranking Members didn’ receive it until after the Chairman of the Oversight and Government Reform Committee, Jason Chaffetz, tweeted it out and made it public.” \\nSo let’s see if we’ve got this right. The FBI director tells Chaffetz and other GOP committee chairmen about a major development in a potentially politically explosive investigation, and neither Chaffetz nor his other colleagues had the courtesy to let their Democratic counterparts know about it. Instead, according to this aide, he made them find out about it on Twitter. \\nThere has already been talk on Daily Kos that Comey himself provided advance notice of this letter to Chaffetz and other Republicans, giving them time to turn on the spin machine. That may make for good theater, but there is nothing so far that even suggests this is the case. After all, there is nothing so far that suggests that Comey was anything other than grossly incompetent and tone-deaf. \\nWhat it does suggest, however, is that Chaffetz is acting in a way that makes Dan Burton and Darrell Issa look like models of responsibility and bipartisanship. He didn’t even have the decency to notify ranking member Elijah Cummings about something this explosive. If that doesn’t trample on basic standards of fairness, I don’t know what does. \\nGranted, it’s not likely that Chaffetz will have to answer for this. He sits in a ridiculously Republican district anchored in Provo and Orem; it has a Cook Partisan Voting Index of R+25, and gave Mitt Romney a punishing 78 percent of the vote in 2012. Moreover, the Republican House leadership has given its full support to Chaffetz’ planned fishing expedition. But that doesn’t mean we can’t turn the hot lights on him. After all, he is a textbook example of what the House has become under Republican control. And he is also the Second Worst Person in the World. About Darrell Lucus \\nDarrell is a 30-something graduate of the University of North Carolina who considers himself a journalist of the old school. An attempt to turn him into a member of the religious right in college only succeeded in turning him into the religious right\\'s worst nightmare--a charismatic Christian who is an unapologetic liberal. His desire to stand up for those who have been scared into silence only increased when he survived an abusive three-year marriage. You may know him on Daily Kos as Christian Dem in NC . Follow him on Twitter @DarrellLucus or connect with him on Facebook . Click here to buy Darrell a Mello Yello. Connect'"
            ],
            "application/vnd.google.colaboratory.intrinsic+json": {
              "type": "string"
            }
          },
          "metadata": {},
          "execution_count": 8
        }
      ]
    },
    {
      "cell_type": "code",
      "source": [
        "A['news']           =       A['text']\n",
        "E['news']           =       E['text']\n",
        "A.drop(['id','title','author','text'], axis=1, inplace=True)\n",
        "E.drop(['id','title','author','text'], axis=1, inplace=True)\n",
        "A.head(3)"
      ],
      "metadata": {
        "colab": {
          "base_uri": "https://localhost:8080/",
          "height": 142
        },
        "id": "f9B147YsVPAh",
        "outputId": "7ba0653b-0f23-4ec0-d072-8568c58f21a4"
      },
      "execution_count": 9,
      "outputs": [
        {
          "output_type": "execute_result",
          "data": {
            "text/plain": [
              "   label                                               news\n",
              "0      1  House Dem Aide: We Didn’t Even See Comey’s Let...\n",
              "1      0  Ever get the feeling your life circles the rou...\n",
              "2      1  Why the Truth Might Get You Fired October 29, ..."
            ],
            "text/html": [
              "\n",
              "  <div id=\"df-7ea2e22f-edfc-4e6f-8ff5-1daa05a3d6d3\" class=\"colab-df-container\">\n",
              "    <div>\n",
              "<style scoped>\n",
              "    .dataframe tbody tr th:only-of-type {\n",
              "        vertical-align: middle;\n",
              "    }\n",
              "\n",
              "    .dataframe tbody tr th {\n",
              "        vertical-align: top;\n",
              "    }\n",
              "\n",
              "    .dataframe thead th {\n",
              "        text-align: right;\n",
              "    }\n",
              "</style>\n",
              "<table border=\"1\" class=\"dataframe\">\n",
              "  <thead>\n",
              "    <tr style=\"text-align: right;\">\n",
              "      <th></th>\n",
              "      <th>label</th>\n",
              "      <th>news</th>\n",
              "    </tr>\n",
              "  </thead>\n",
              "  <tbody>\n",
              "    <tr>\n",
              "      <th>0</th>\n",
              "      <td>1</td>\n",
              "      <td>House Dem Aide: We Didn’t Even See Comey’s Let...</td>\n",
              "    </tr>\n",
              "    <tr>\n",
              "      <th>1</th>\n",
              "      <td>0</td>\n",
              "      <td>Ever get the feeling your life circles the rou...</td>\n",
              "    </tr>\n",
              "    <tr>\n",
              "      <th>2</th>\n",
              "      <td>1</td>\n",
              "      <td>Why the Truth Might Get You Fired October 29, ...</td>\n",
              "    </tr>\n",
              "  </tbody>\n",
              "</table>\n",
              "</div>\n",
              "    <div class=\"colab-df-buttons\">\n",
              "\n",
              "  <div class=\"colab-df-container\">\n",
              "    <button class=\"colab-df-convert\" onclick=\"convertToInteractive('df-7ea2e22f-edfc-4e6f-8ff5-1daa05a3d6d3')\"\n",
              "            title=\"Convert this dataframe to an interactive table.\"\n",
              "            style=\"display:none;\">\n",
              "\n",
              "  <svg xmlns=\"http://www.w3.org/2000/svg\" height=\"24px\" viewBox=\"0 -960 960 960\">\n",
              "    <path d=\"M120-120v-720h720v720H120Zm60-500h600v-160H180v160Zm220 220h160v-160H400v160Zm0 220h160v-160H400v160ZM180-400h160v-160H180v160Zm440 0h160v-160H620v160ZM180-180h160v-160H180v160Zm440 0h160v-160H620v160Z\"/>\n",
              "  </svg>\n",
              "    </button>\n",
              "\n",
              "  <style>\n",
              "    .colab-df-container {\n",
              "      display:flex;\n",
              "      gap: 12px;\n",
              "    }\n",
              "\n",
              "    .colab-df-convert {\n",
              "      background-color: #E8F0FE;\n",
              "      border: none;\n",
              "      border-radius: 50%;\n",
              "      cursor: pointer;\n",
              "      display: none;\n",
              "      fill: #1967D2;\n",
              "      height: 32px;\n",
              "      padding: 0 0 0 0;\n",
              "      width: 32px;\n",
              "    }\n",
              "\n",
              "    .colab-df-convert:hover {\n",
              "      background-color: #E2EBFA;\n",
              "      box-shadow: 0px 1px 2px rgba(60, 64, 67, 0.3), 0px 1px 3px 1px rgba(60, 64, 67, 0.15);\n",
              "      fill: #174EA6;\n",
              "    }\n",
              "\n",
              "    .colab-df-buttons div {\n",
              "      margin-bottom: 4px;\n",
              "    }\n",
              "\n",
              "    [theme=dark] .colab-df-convert {\n",
              "      background-color: #3B4455;\n",
              "      fill: #D2E3FC;\n",
              "    }\n",
              "\n",
              "    [theme=dark] .colab-df-convert:hover {\n",
              "      background-color: #434B5C;\n",
              "      box-shadow: 0px 1px 3px 1px rgba(0, 0, 0, 0.15);\n",
              "      filter: drop-shadow(0px 1px 2px rgba(0, 0, 0, 0.3));\n",
              "      fill: #FFFFFF;\n",
              "    }\n",
              "  </style>\n",
              "\n",
              "    <script>\n",
              "      const buttonEl =\n",
              "        document.querySelector('#df-7ea2e22f-edfc-4e6f-8ff5-1daa05a3d6d3 button.colab-df-convert');\n",
              "      buttonEl.style.display =\n",
              "        google.colab.kernel.accessAllowed ? 'block' : 'none';\n",
              "\n",
              "      async function convertToInteractive(key) {\n",
              "        const element = document.querySelector('#df-7ea2e22f-edfc-4e6f-8ff5-1daa05a3d6d3');\n",
              "        const dataTable =\n",
              "          await google.colab.kernel.invokeFunction('convertToInteractive',\n",
              "                                                    [key], {});\n",
              "        if (!dataTable) return;\n",
              "\n",
              "        const docLinkHtml = 'Like what you see? Visit the ' +\n",
              "          '<a target=\"_blank\" href=https://colab.research.google.com/notebooks/data_table.ipynb>data table notebook</a>'\n",
              "          + ' to learn more about interactive tables.';\n",
              "        element.innerHTML = '';\n",
              "        dataTable['output_type'] = 'display_data';\n",
              "        await google.colab.output.renderOutput(dataTable, element);\n",
              "        const docLink = document.createElement('div');\n",
              "        docLink.innerHTML = docLinkHtml;\n",
              "        element.appendChild(docLink);\n",
              "      }\n",
              "    </script>\n",
              "  </div>\n",
              "\n",
              "\n",
              "<div id=\"df-d89202e1-ca64-4e30-9c06-1b483b2c101d\">\n",
              "  <button class=\"colab-df-quickchart\" onclick=\"quickchart('df-d89202e1-ca64-4e30-9c06-1b483b2c101d')\"\n",
              "            title=\"Suggest charts\"\n",
              "            style=\"display:none;\">\n",
              "\n",
              "<svg xmlns=\"http://www.w3.org/2000/svg\" height=\"24px\"viewBox=\"0 0 24 24\"\n",
              "     width=\"24px\">\n",
              "    <g>\n",
              "        <path d=\"M19 3H5c-1.1 0-2 .9-2 2v14c0 1.1.9 2 2 2h14c1.1 0 2-.9 2-2V5c0-1.1-.9-2-2-2zM9 17H7v-7h2v7zm4 0h-2V7h2v10zm4 0h-2v-4h2v4z\"/>\n",
              "    </g>\n",
              "</svg>\n",
              "  </button>\n",
              "\n",
              "<style>\n",
              "  .colab-df-quickchart {\n",
              "      --bg-color: #E8F0FE;\n",
              "      --fill-color: #1967D2;\n",
              "      --hover-bg-color: #E2EBFA;\n",
              "      --hover-fill-color: #174EA6;\n",
              "      --disabled-fill-color: #AAA;\n",
              "      --disabled-bg-color: #DDD;\n",
              "  }\n",
              "\n",
              "  [theme=dark] .colab-df-quickchart {\n",
              "      --bg-color: #3B4455;\n",
              "      --fill-color: #D2E3FC;\n",
              "      --hover-bg-color: #434B5C;\n",
              "      --hover-fill-color: #FFFFFF;\n",
              "      --disabled-bg-color: #3B4455;\n",
              "      --disabled-fill-color: #666;\n",
              "  }\n",
              "\n",
              "  .colab-df-quickchart {\n",
              "    background-color: var(--bg-color);\n",
              "    border: none;\n",
              "    border-radius: 50%;\n",
              "    cursor: pointer;\n",
              "    display: none;\n",
              "    fill: var(--fill-color);\n",
              "    height: 32px;\n",
              "    padding: 0;\n",
              "    width: 32px;\n",
              "  }\n",
              "\n",
              "  .colab-df-quickchart:hover {\n",
              "    background-color: var(--hover-bg-color);\n",
              "    box-shadow: 0 1px 2px rgba(60, 64, 67, 0.3), 0 1px 3px 1px rgba(60, 64, 67, 0.15);\n",
              "    fill: var(--button-hover-fill-color);\n",
              "  }\n",
              "\n",
              "  .colab-df-quickchart-complete:disabled,\n",
              "  .colab-df-quickchart-complete:disabled:hover {\n",
              "    background-color: var(--disabled-bg-color);\n",
              "    fill: var(--disabled-fill-color);\n",
              "    box-shadow: none;\n",
              "  }\n",
              "\n",
              "  .colab-df-spinner {\n",
              "    border: 2px solid var(--fill-color);\n",
              "    border-color: transparent;\n",
              "    border-bottom-color: var(--fill-color);\n",
              "    animation:\n",
              "      spin 1s steps(1) infinite;\n",
              "  }\n",
              "\n",
              "  @keyframes spin {\n",
              "    0% {\n",
              "      border-color: transparent;\n",
              "      border-bottom-color: var(--fill-color);\n",
              "      border-left-color: var(--fill-color);\n",
              "    }\n",
              "    20% {\n",
              "      border-color: transparent;\n",
              "      border-left-color: var(--fill-color);\n",
              "      border-top-color: var(--fill-color);\n",
              "    }\n",
              "    30% {\n",
              "      border-color: transparent;\n",
              "      border-left-color: var(--fill-color);\n",
              "      border-top-color: var(--fill-color);\n",
              "      border-right-color: var(--fill-color);\n",
              "    }\n",
              "    40% {\n",
              "      border-color: transparent;\n",
              "      border-right-color: var(--fill-color);\n",
              "      border-top-color: var(--fill-color);\n",
              "    }\n",
              "    60% {\n",
              "      border-color: transparent;\n",
              "      border-right-color: var(--fill-color);\n",
              "    }\n",
              "    80% {\n",
              "      border-color: transparent;\n",
              "      border-right-color: var(--fill-color);\n",
              "      border-bottom-color: var(--fill-color);\n",
              "    }\n",
              "    90% {\n",
              "      border-color: transparent;\n",
              "      border-bottom-color: var(--fill-color);\n",
              "    }\n",
              "  }\n",
              "</style>\n",
              "\n",
              "  <script>\n",
              "    async function quickchart(key) {\n",
              "      const quickchartButtonEl =\n",
              "        document.querySelector('#' + key + ' button');\n",
              "      quickchartButtonEl.disabled = true;  // To prevent multiple clicks.\n",
              "      quickchartButtonEl.classList.add('colab-df-spinner');\n",
              "      try {\n",
              "        const charts = await google.colab.kernel.invokeFunction(\n",
              "            'suggestCharts', [key], {});\n",
              "      } catch (error) {\n",
              "        console.error('Error during call to suggestCharts:', error);\n",
              "      }\n",
              "      quickchartButtonEl.classList.remove('colab-df-spinner');\n",
              "      quickchartButtonEl.classList.add('colab-df-quickchart-complete');\n",
              "    }\n",
              "    (() => {\n",
              "      let quickchartButtonEl =\n",
              "        document.querySelector('#df-d89202e1-ca64-4e30-9c06-1b483b2c101d button');\n",
              "      quickchartButtonEl.style.display =\n",
              "        google.colab.kernel.accessAllowed ? 'block' : 'none';\n",
              "    })();\n",
              "  </script>\n",
              "</div>\n",
              "\n",
              "    </div>\n",
              "  </div>\n"
            ],
            "application/vnd.google.colaboratory.intrinsic+json": {
              "type": "dataframe",
              "variable_name": "A",
              "summary": "{\n  \"name\": \"A\",\n  \"rows\": 20800,\n  \"fields\": [\n    {\n      \"column\": \"label\",\n      \"properties\": {\n        \"dtype\": \"number\",\n        \"std\": 0,\n        \"min\": 0,\n        \"max\": 1,\n        \"num_unique_values\": 2,\n        \"samples\": [\n          0,\n          1\n        ],\n        \"semantic_type\": \"\",\n        \"description\": \"\"\n      }\n    },\n    {\n      \"column\": \"news\",\n      \"properties\": {\n        \"dtype\": \"string\",\n        \"num_unique_values\": 20387,\n        \"samples\": [\n          \"Multan a un ultrasur por lanzar a un jugador del Bar\\u00e7a al campo durante el partido Madrid-Legia EL PARTIDO SE CONSIDERABA DE ALTO RIESGO PARA LOS JUGADORES DEL BARCELONA Real Madrid \\nUn jugador barcelonista golpe\\u00f3 a varios jugadores durante el encuentro de la Champions que tuvo lugar ayer entre el Real Madrid y el Legia Varsovia despu\\u00e9s de ser arrojado desde la grada por un hincha madridista. \\nEl portero del Legia, muy molesto, intent\\u00f3 devolver el jugador a las gradas de una patada y se encar\\u00f3 con los Ultrasur, que ya preparaban a otro jugador para echarlo al campo y entorpecer el encuentro. En esta ocasi\\u00f3n pretend\\u00edan prenderlo con un mechero antes de lanzarlo al c\\u00e9sped. \\nLas autoridades han vuelto a pedir a los aficionados que dejen de lanzar cosas al campo como botellas, monedas y jugadores del Barcelona. El dispositivo de seguridad no puedo hacer nada por evitar que algunos hinchas introdujeran a jugadores barcelonistas a la grada, pues los llevaban camuflados dentro de bocadillos de gran tama\\u00f1o. \\nEl partido pudo ser reanudado cuando el \\u00e1rbitro apart\\u00f3 a un rinc\\u00f3n del c\\u00e9sped al jugador barcelonista.\",\n          \"Written by Eric Margolis   As a former soldier and war correspondent who has covered 14 conflicts, I look at all the media hoopla over tightening siege of Mosul, Iraq and shake my head. This western-organized \\u201cliberation\\u201d of Mosul is one of the bigger pieces of political-military theater that I\\u2019ve seen. Islamic State (IS), the defender of Mosul, is a paper tiger, blown out of all proportion by western media. IS is, as this writer has been saying for years, an armed mob made up of 20-something malcontents, religious fanatics, and modern-day anarchists. At its top is a cadre of former Iraqi Army officers with military experience. These former officers of Saddam Hussain are bent on revenge for the US destruction of their nation and the lynching of its late leader. But IS rank and file has no military training, little discipline, degraded communications, and ragged logistics. In fact, today\\u2019s Islamic State is what the Ottoman Empire used to term, \\u2018bashi-bazouks,\\u201d a collection of irregular cut-throats and scum of the gutter sent to punish and terrorize enemies by means of torture, rapine, looting, and arson. What has amazed me about the faux western war against ISIS is its leisurely nature, lack of \\u00e9lan , and hesitancy. In my view, ISIS was mostly created by the US and its allies as a weapon to be used against Syria\\u2019s government \\u2013 just as the Afghan mujahadin were used by the US and the Saudis to overthrow the Soviet-backed Afghan government. Israel tried the same tactics by helping create Hamas in Palestine and Hezbollah in Lebanon. Both were cultivated to split the PLO. ISIS is an ad hoc movement that wants to punish the West and the Saudis for the gross carnage they have inflicted on the Arab world. Western and Kurdish auxiliary forces have been sitting 1.5 hours drive from Mosul and the IS town of Raqqa for over a year. Instead, western \\u2013 mainly US \\u2013 warplanes have been gingerly bombing around these targets in what may be an effort to convince breakaway ISIS to rejoin US-led forces fight the Damascus regime. Note that ISIS does not appear to have ever attacked Israel though it is playing an important role in the destruction of Syria. Some reports say Israel is providing logistic and medical support for IS. The siege of Mosul is being played up by western media as a heroic second Stalingrad. Don\\u2019t be fooled. IS has only 3-5,000 lightly armed fighters in Mosul and Raqqa, maybe even less. The leaders of IS are likely long gone. IS has few heavy weapons, no air cover at all, and poor communications. Its rag-tag fighters will run out of ammunitions and explosives very quickly. Encircling Mosul are at least 50,000 western-led soldiers, backed by heavy artillery, rocket batteries, tanks, armored vehicles and awesome air power The western imperial forces are composed of tough Kurdish peshmerga fighters, Iraqi army and special forces, some Syrian Kurds, Iranian \\u2018volunteers\\u2019 irregular forces and at least 5,000 US combat troops called \\u201cadvisors\\u201d, plus small numbers of French, Canadian and British special forces. Hovering in the background are some thousands of Turkish troops, supported by armor and artillery ready to \\\"liberate\\\" Iraq \\u2013 which was once part of the Ottoman Empire. For the US, current military operations in Syria and Iraq are the realization of an imperialist\\u2019s fondest dream: native troops led by white officers, the model of the old British Indian Raj. Washington arms, trained, equips and financed all its native auxiliaries. The IS is caught in a dangerous dilemma. To be a political movement, it was delighted to control Iraq\\u2019s second largest city. But as a guerilla force, it should not have holed up in an urban area where it was highly vulnerable to concentrated air attack and being surrounded. This is what\\u2019s happening right now. In the mostly flat Fertile Crescent with too few trees, ground forces are totally vulnerable to air power, as the recent 1967, 1973 Israel-Arab wars and 2003 Iraq wars have shown. Dispersion and guerilla tactics are the only hope for those that lack air cover. IS forces would best advise to disperse across the region and continue their hit-and-run attacks. Otherwise, they risk being destroyed. But being mostly bloody-minded young fanatics, IS may not heed military logic and precedent in favor of making a last stand in the ruins of Mosul and Raqqa. When this happens, western leaders will compete to claim authorship of the faux crusade against the paper tiger of ISIS.   LewRockwell.com . Related\"\n        ],\n        \"semantic_type\": \"\",\n        \"description\": \"\"\n      }\n    }\n  ]\n}"
            }
          },
          "metadata": {},
          "execution_count": 9
        }
      ]
    },
    {
      "cell_type": "code",
      "source": [
        "E.head(3)"
      ],
      "metadata": {
        "colab": {
          "base_uri": "https://localhost:8080/",
          "height": 142
        },
        "id": "vNsljQ6zmod4",
        "outputId": "a4728701-3c28-48ce-b7ee-260ba16596d8"
      },
      "execution_count": 10,
      "outputs": [
        {
          "output_type": "execute_result",
          "data": {
            "text/plain": [
              "                                                news\n",
              "0  PALO ALTO, Calif.  —   After years of scorning...\n",
              "1  Russian warships ready to strike terrorists ne...\n",
              "2  Videos #NoDAPL: Native American Leaders Vow to..."
            ],
            "text/html": [
              "\n",
              "  <div id=\"df-80355825-285c-418c-8644-6bbc862f1367\" class=\"colab-df-container\">\n",
              "    <div>\n",
              "<style scoped>\n",
              "    .dataframe tbody tr th:only-of-type {\n",
              "        vertical-align: middle;\n",
              "    }\n",
              "\n",
              "    .dataframe tbody tr th {\n",
              "        vertical-align: top;\n",
              "    }\n",
              "\n",
              "    .dataframe thead th {\n",
              "        text-align: right;\n",
              "    }\n",
              "</style>\n",
              "<table border=\"1\" class=\"dataframe\">\n",
              "  <thead>\n",
              "    <tr style=\"text-align: right;\">\n",
              "      <th></th>\n",
              "      <th>news</th>\n",
              "    </tr>\n",
              "  </thead>\n",
              "  <tbody>\n",
              "    <tr>\n",
              "      <th>0</th>\n",
              "      <td>PALO ALTO, Calif.  —   After years of scorning...</td>\n",
              "    </tr>\n",
              "    <tr>\n",
              "      <th>1</th>\n",
              "      <td>Russian warships ready to strike terrorists ne...</td>\n",
              "    </tr>\n",
              "    <tr>\n",
              "      <th>2</th>\n",
              "      <td>Videos #NoDAPL: Native American Leaders Vow to...</td>\n",
              "    </tr>\n",
              "  </tbody>\n",
              "</table>\n",
              "</div>\n",
              "    <div class=\"colab-df-buttons\">\n",
              "\n",
              "  <div class=\"colab-df-container\">\n",
              "    <button class=\"colab-df-convert\" onclick=\"convertToInteractive('df-80355825-285c-418c-8644-6bbc862f1367')\"\n",
              "            title=\"Convert this dataframe to an interactive table.\"\n",
              "            style=\"display:none;\">\n",
              "\n",
              "  <svg xmlns=\"http://www.w3.org/2000/svg\" height=\"24px\" viewBox=\"0 -960 960 960\">\n",
              "    <path d=\"M120-120v-720h720v720H120Zm60-500h600v-160H180v160Zm220 220h160v-160H400v160Zm0 220h160v-160H400v160ZM180-400h160v-160H180v160Zm440 0h160v-160H620v160ZM180-180h160v-160H180v160Zm440 0h160v-160H620v160Z\"/>\n",
              "  </svg>\n",
              "    </button>\n",
              "\n",
              "  <style>\n",
              "    .colab-df-container {\n",
              "      display:flex;\n",
              "      gap: 12px;\n",
              "    }\n",
              "\n",
              "    .colab-df-convert {\n",
              "      background-color: #E8F0FE;\n",
              "      border: none;\n",
              "      border-radius: 50%;\n",
              "      cursor: pointer;\n",
              "      display: none;\n",
              "      fill: #1967D2;\n",
              "      height: 32px;\n",
              "      padding: 0 0 0 0;\n",
              "      width: 32px;\n",
              "    }\n",
              "\n",
              "    .colab-df-convert:hover {\n",
              "      background-color: #E2EBFA;\n",
              "      box-shadow: 0px 1px 2px rgba(60, 64, 67, 0.3), 0px 1px 3px 1px rgba(60, 64, 67, 0.15);\n",
              "      fill: #174EA6;\n",
              "    }\n",
              "\n",
              "    .colab-df-buttons div {\n",
              "      margin-bottom: 4px;\n",
              "    }\n",
              "\n",
              "    [theme=dark] .colab-df-convert {\n",
              "      background-color: #3B4455;\n",
              "      fill: #D2E3FC;\n",
              "    }\n",
              "\n",
              "    [theme=dark] .colab-df-convert:hover {\n",
              "      background-color: #434B5C;\n",
              "      box-shadow: 0px 1px 3px 1px rgba(0, 0, 0, 0.15);\n",
              "      filter: drop-shadow(0px 1px 2px rgba(0, 0, 0, 0.3));\n",
              "      fill: #FFFFFF;\n",
              "    }\n",
              "  </style>\n",
              "\n",
              "    <script>\n",
              "      const buttonEl =\n",
              "        document.querySelector('#df-80355825-285c-418c-8644-6bbc862f1367 button.colab-df-convert');\n",
              "      buttonEl.style.display =\n",
              "        google.colab.kernel.accessAllowed ? 'block' : 'none';\n",
              "\n",
              "      async function convertToInteractive(key) {\n",
              "        const element = document.querySelector('#df-80355825-285c-418c-8644-6bbc862f1367');\n",
              "        const dataTable =\n",
              "          await google.colab.kernel.invokeFunction('convertToInteractive',\n",
              "                                                    [key], {});\n",
              "        if (!dataTable) return;\n",
              "\n",
              "        const docLinkHtml = 'Like what you see? Visit the ' +\n",
              "          '<a target=\"_blank\" href=https://colab.research.google.com/notebooks/data_table.ipynb>data table notebook</a>'\n",
              "          + ' to learn more about interactive tables.';\n",
              "        element.innerHTML = '';\n",
              "        dataTable['output_type'] = 'display_data';\n",
              "        await google.colab.output.renderOutput(dataTable, element);\n",
              "        const docLink = document.createElement('div');\n",
              "        docLink.innerHTML = docLinkHtml;\n",
              "        element.appendChild(docLink);\n",
              "      }\n",
              "    </script>\n",
              "  </div>\n",
              "\n",
              "\n",
              "<div id=\"df-e74a9bcf-cc51-492c-ae0d-980fa57bea04\">\n",
              "  <button class=\"colab-df-quickchart\" onclick=\"quickchart('df-e74a9bcf-cc51-492c-ae0d-980fa57bea04')\"\n",
              "            title=\"Suggest charts\"\n",
              "            style=\"display:none;\">\n",
              "\n",
              "<svg xmlns=\"http://www.w3.org/2000/svg\" height=\"24px\"viewBox=\"0 0 24 24\"\n",
              "     width=\"24px\">\n",
              "    <g>\n",
              "        <path d=\"M19 3H5c-1.1 0-2 .9-2 2v14c0 1.1.9 2 2 2h14c1.1 0 2-.9 2-2V5c0-1.1-.9-2-2-2zM9 17H7v-7h2v7zm4 0h-2V7h2v10zm4 0h-2v-4h2v4z\"/>\n",
              "    </g>\n",
              "</svg>\n",
              "  </button>\n",
              "\n",
              "<style>\n",
              "  .colab-df-quickchart {\n",
              "      --bg-color: #E8F0FE;\n",
              "      --fill-color: #1967D2;\n",
              "      --hover-bg-color: #E2EBFA;\n",
              "      --hover-fill-color: #174EA6;\n",
              "      --disabled-fill-color: #AAA;\n",
              "      --disabled-bg-color: #DDD;\n",
              "  }\n",
              "\n",
              "  [theme=dark] .colab-df-quickchart {\n",
              "      --bg-color: #3B4455;\n",
              "      --fill-color: #D2E3FC;\n",
              "      --hover-bg-color: #434B5C;\n",
              "      --hover-fill-color: #FFFFFF;\n",
              "      --disabled-bg-color: #3B4455;\n",
              "      --disabled-fill-color: #666;\n",
              "  }\n",
              "\n",
              "  .colab-df-quickchart {\n",
              "    background-color: var(--bg-color);\n",
              "    border: none;\n",
              "    border-radius: 50%;\n",
              "    cursor: pointer;\n",
              "    display: none;\n",
              "    fill: var(--fill-color);\n",
              "    height: 32px;\n",
              "    padding: 0;\n",
              "    width: 32px;\n",
              "  }\n",
              "\n",
              "  .colab-df-quickchart:hover {\n",
              "    background-color: var(--hover-bg-color);\n",
              "    box-shadow: 0 1px 2px rgba(60, 64, 67, 0.3), 0 1px 3px 1px rgba(60, 64, 67, 0.15);\n",
              "    fill: var(--button-hover-fill-color);\n",
              "  }\n",
              "\n",
              "  .colab-df-quickchart-complete:disabled,\n",
              "  .colab-df-quickchart-complete:disabled:hover {\n",
              "    background-color: var(--disabled-bg-color);\n",
              "    fill: var(--disabled-fill-color);\n",
              "    box-shadow: none;\n",
              "  }\n",
              "\n",
              "  .colab-df-spinner {\n",
              "    border: 2px solid var(--fill-color);\n",
              "    border-color: transparent;\n",
              "    border-bottom-color: var(--fill-color);\n",
              "    animation:\n",
              "      spin 1s steps(1) infinite;\n",
              "  }\n",
              "\n",
              "  @keyframes spin {\n",
              "    0% {\n",
              "      border-color: transparent;\n",
              "      border-bottom-color: var(--fill-color);\n",
              "      border-left-color: var(--fill-color);\n",
              "    }\n",
              "    20% {\n",
              "      border-color: transparent;\n",
              "      border-left-color: var(--fill-color);\n",
              "      border-top-color: var(--fill-color);\n",
              "    }\n",
              "    30% {\n",
              "      border-color: transparent;\n",
              "      border-left-color: var(--fill-color);\n",
              "      border-top-color: var(--fill-color);\n",
              "      border-right-color: var(--fill-color);\n",
              "    }\n",
              "    40% {\n",
              "      border-color: transparent;\n",
              "      border-right-color: var(--fill-color);\n",
              "      border-top-color: var(--fill-color);\n",
              "    }\n",
              "    60% {\n",
              "      border-color: transparent;\n",
              "      border-right-color: var(--fill-color);\n",
              "    }\n",
              "    80% {\n",
              "      border-color: transparent;\n",
              "      border-right-color: var(--fill-color);\n",
              "      border-bottom-color: var(--fill-color);\n",
              "    }\n",
              "    90% {\n",
              "      border-color: transparent;\n",
              "      border-bottom-color: var(--fill-color);\n",
              "    }\n",
              "  }\n",
              "</style>\n",
              "\n",
              "  <script>\n",
              "    async function quickchart(key) {\n",
              "      const quickchartButtonEl =\n",
              "        document.querySelector('#' + key + ' button');\n",
              "      quickchartButtonEl.disabled = true;  // To prevent multiple clicks.\n",
              "      quickchartButtonEl.classList.add('colab-df-spinner');\n",
              "      try {\n",
              "        const charts = await google.colab.kernel.invokeFunction(\n",
              "            'suggestCharts', [key], {});\n",
              "      } catch (error) {\n",
              "        console.error('Error during call to suggestCharts:', error);\n",
              "      }\n",
              "      quickchartButtonEl.classList.remove('colab-df-spinner');\n",
              "      quickchartButtonEl.classList.add('colab-df-quickchart-complete');\n",
              "    }\n",
              "    (() => {\n",
              "      let quickchartButtonEl =\n",
              "        document.querySelector('#df-e74a9bcf-cc51-492c-ae0d-980fa57bea04 button');\n",
              "      quickchartButtonEl.style.display =\n",
              "        google.colab.kernel.accessAllowed ? 'block' : 'none';\n",
              "    })();\n",
              "  </script>\n",
              "</div>\n",
              "\n",
              "    </div>\n",
              "  </div>\n"
            ],
            "application/vnd.google.colaboratory.intrinsic+json": {
              "type": "dataframe",
              "variable_name": "E",
              "summary": "{\n  \"name\": \"E\",\n  \"rows\": 5200,\n  \"fields\": [\n    {\n      \"column\": \"news\",\n      \"properties\": {\n        \"dtype\": \"string\",\n        \"num_unique_values\": 5127,\n        \"samples\": [\n          \"Cast Your Vote: Whose Foreign Policy Position Do You Prefer? Posted on Oct 28, 2016 Donald Trump and Hillary Clinton argued over foreign policy during the third presidential debate. (Screen shot via YouTube ) \\nWe are only 10 days away from Election Day, and the two mainstream candidates are steamrolling through the swing states in an effort to court votes. Over the past week, WikiLeaks provided some revelations on how Clinton and her husband used the Clinton Foundation to their advantage. Donald Trump, meanwhile, continued to close in on Clinton in the polls. \\nThe week began on a somber note, when news broke that longtime peace activist and California legislator Tom Hayden died at age 76. His original Truthdig reports , which have been reposted throughout the week, reinforce the importance of an anti-war foreign policy. \\u201cOur systems\\u2014politics, media, culture\\u2014are totally out of balance today because of our collective refusal to admit that the Vietnam War was wrong and that the peace movement was right,\\u201d he said in 2016 . \\nMany of his reports written back in 2006 focus on American foreign policy in the Middle East. Although written over a decade ago, Hayden\\u2019s words of caution still ring true, as in this piece on a potential U.S. withdrawal from Iraq : \\nMany activists are learning for the first time, or perhaps all over again, what it means to be winter soldiers in a long war. All the wasted lives can never be brought back, all those squandered tax dollars will never be redistributed, true enough. But if the war itself was never going to be a cakewalk, why should ending it be any different? It may still be far from over, with the simmering question of Iran on the immediate horizon. \\nAs Hayden warned, U.S. involvement in the Middle East is far from over, and throughout this election season a new player has entered the arena: Russia. \\nEarlier this week, Trump stated that Clinton, if elected, would cause World War III with Russia. Truthdig contributor Juan Cole argued that \\u201c[s]uperpowers don\\u2019t fight one another in the nuclear age\\u2026[they] fight proxy wars like Vietnam and Afghanistan.\\u201d Cole asserts that Clinton\\u2019s experience as secretary of state will make it easy for her to communicate with the Russian government and the Pentagon alike. \\nOthers, however, don\\u2019t feel too positive about a potential Clinton administration\\u2019s foreign policy. Clinton has proposed a \\u201cno-fly\\u201d zone over Syria as part of her foreign policy plan, alarming security experts . \\nAs Lauren McCauley writes, reports also surfaced this week showing how a Clinton administration \\u201cwill likely usher in a more aggressive, bipartisan foreign policy in the Middle East and beyond.\\u201d She quotes Greg Jaffe: \\nThe Republicans and Democrats who make up the foreign policy elite are laying the groundwork for a more assertive American foreign policy via a flurry of reports shaped by officials who are likely to play senior roles in a potential Clinton White House,\\u201d the Washington Post\\u2019s White House correspondent Greg Jaffe reports. \\nOne such study, published Wednesday by the Center for American Progress (CAP)\\u2014which is run by president Neera Tanden, policy director for Clinton\\u2019s presidential campaign\\u2014recommends the next administration step up its \\u201cmilitary engagement\\u201d amid a more \\u201cproactive and long-term approach to the Middle East.\\u201d \\nBut what of Trump\\u2019s foreign policy? Juan Cole also argued earlier this week that when it comes to Trump\\u2019s assertions on the U.S. presence in the Middle East, \\u201che doesn\\u2019t have the slightest idea of what he is talking about.\\u201d \\nTruthdig\\u2019s own Bill Boyarsky expressed a similar concern in his column this week, labeling Trump \\u201ca threat to democracy.\\u201d \\n\\u201cTrump\\u2019s scorn for the electoral system and democratic institutions is reason enough to fear a Trump presidency,\\u201d Boyarsky writes. \\u201cAdded to that is his racist rabble-rousing against Muslims, those of Mexican descent and other immigrants.\\u201d \\nAnd of course, the discussion on foreign policy doesn\\u2019t solely revolve around just two presidential nominees. This week, NATO urged \\u201call allies to deploy more troops and military equipment to Russia\\u2019s borders\\u201d in a move that Common Dreams staff writer Nika Knight called \\u201cshortsighted.\\u201d \\nThere is also an inherent problem with the American military spending, says William D. Hartung, director of the Arms and Security Project at the Center for International Policy. \\u201cThrough good times and bad, regardless of what\\u2019s actually happening in the world, one thing is certain: in the long run, the Pentagon budget won\\u2019t go down,\\u201d he writes. \\u201cAs long as fear, greed, and hubris are the dominant factors driving Pentagon spending, no matter who is in the White House, substantial and enduring budget reductions are essentially inconceivable.\\u201d \\nSo although there are broader, deeply embedded institutional factors responsible for American foreign policy, whoever wins on November 8 will certainly make an impact. Given the events of the past week\\u2014the focus on increased tensions with Russia, and the tightening race between Clinton and Trump\\u2014we turn to you, our readers. Which candidate has a foreign policy position worth pursuing? Will Clinton\\u2019s experience, although \\u201cwar hawkish,\\u201d serve in her favor, or will Trump\\u2019s business acumen serve him better as Commander in Chief? \\nLet us know in the poll below. One vote per person, please. (Make your selection and then click on \\u201cVote.\\u201d To see results of the polling, click on \\u201cResults.\\u201d) Which presidential nominee\\u2019s foreign policy position do you prefer? Hillary Clinton\",\n          \"November 7, 2016 \\n\\u2018We must have sent him four emails asking for a review, but he just ignored them,\\u2019 said an Amazon spokesman today. \\u2018He hadn\\u2019t marked the product as a gift, so there was no reason to not provide a review,\\u2019 he added. \\nJudge Roberts commented when sentencing Billy Askew (24) from Winsford to three months in gaol that: \\u2018it was every on-line shopper\\u2019s civic duty to provide a review, even if it\\u2019s clearly horseshit\\u2019. Billy was clearly shaken by the sentence: \\u2018it was just a set of toe-nail clippers,\\u2019 he pointed out as he was escorted from the dock. \\u2018They cut my toe-nails, what more is there to say?\\u2019 he asked, narrowly avoiding having his fingers trapped in the cell door. \\nThe Amazon spokesman defended referring Billy to the authorities: \\u2018Everybody provides reviews these days, even HMRC gave our tax return a review. One star, a bit harsh,\\u2019 he added, while confirming that if Billy had been an Amazon Prime member. \\u2018We\\u2019d probably have written the review for him\\u2019. \\nBilly has clearly seen the error of his ways, as he posted a review of his cell on TripAdvisor. \\u2018Smaller than advertised, has an all pervading smell of wee and can you believe it \\u2013 no spare keys!\\u2019 Share this story... \\nPosted: Nov 7th, 2016 by throngsman Click for more article by throngsman .. More Stories about: From The Archives 0\",\n          \"Good morning.  We\\u2019re trying something new for our readers in Asia and Australia: a morning briefing to   your day.  What do you like? What do you want to see here? Email us with your feedback at asiabriefing@nytimes. com. Here\\u2019s what you need to know: \\u2022 Little more than a week before Election Day in the United States, the F. B. I. has become enmeshed as never before in a presidential race. Hillary Clinton and her team launched an attack on the director of the Federal Bureau of Investigation, James B. Comey, after he disclosed that the agency was looking into a batch of messages that could be related to the inquiry into whether she and aides mishandled classified information. The Justice Department obtained a warrant for the messages, on the computer of the estranged husband of a top Clinton aide. Donald J. Trump continued to improve in polls, including in Florida, a state he must win for a chance at the presidency. \\u2022 The shadowy presidential adviser at the center of the South Korea\\u2019s deepening political scandal returned from Europe to apologize for \\u201cwrongdoings\\u201d and pledge to appear before prosecutors. Concerns that she was allowed too much influence in the government prompted protests that pushed President Park   to purge eight aides over the weekend. \\u2022 The Taliban have seized more territory in Afghanistan this year than at any time in their   struggle against the government. Over the last week, scores of Afghan soldiers and at least three army posts surrendered to the militants. The Taliban are increasingly using social media to advertise their victories. \\u2022 Italy is recovering from one of its strongest earthquakes in decades. Search and rescue teams were converging on the stricken area, in the center of the country, where many buildings were damaged and thousands were homeless. No deaths were immediately reported. \\u2022 About 300 million of the world\\u2019s children breathe highly toxic air, according to a United Nations report. More than   of them are in South Asia, where pollution is at least six times levels considered safe. \\u2022 Thousands of fighters are joining   Shiite militias to further Iraq\\u2019s campaign to free the city of Mosul from the Islamic State. The Iraqi military said the total force is now over 40, 000. \\u2022 After we posted a video about women in Saudi Arabia voting and running for office for the first time, nearly 6, 000 Saudi women poured out their hearts about living in a society where male relatives oversee all aspects of their lives. Some said subtle change was in progress, but many spoke of anger and fear. \\u201cI live a lie just so that I wouldn\\u2019t end up getting killed,\\u201d said one. \\u2022 Canada and the European Union signed a trade agreement that counters the widespread   trend. Canada\\u2019s prime minister, Justin Trudeau, said the deal would show that \\u201ctrade is good for the middle class and those working hard to join it. \\u201d \\u2022 Global trade is slipping. That\\u2019s partly because developed nations are moving toward curbing free trade, and partly because reduced consumption and investment are drags. \\u2022 The five bidders for the assets of the Hanjin Shipping Company\\u2019s route between Asia and the United States have until Nov. 7 to submit final bids. \\u2022 In Manila, a competition between tycoons has given new life to a   project to build a new airport for the capital. \\u2022 Australian leaders are concerned about a mining magnate\\u2019s Chinese partners as the group becomes the only bidder for a swath of land bigger than Portugal. \\u2022 Here\\u2019s a snapshot of global markets. \\u2022 The king of Morocco ordered an investigation into the death of a fish vendor who was crushed by a compactor last week while trying to save more than $10, 000 worth of swordfish confiscated by the authorities. His death set off protests that reached the capital, Rabat. [The New York Times] \\u2022 Australia\\u2019s government plans to permanently block all asylum seekers trying to reach the country by boat from ever gaining entry. [Sky News] \\u2022 China sets off on its 33rd Antarctic expedition this week, sending more than 250 people on an icebreaker for months to hunt for a site for its fifth research station. [Global Times] \\u2022 Dozens of people were reported killed in western Yemen after airstrikes by a   military coalition hit a security complex, which included a prison. [The New York Times] \\u2022 Iceland\\u2019s   Pirate Party won second place in a general election, prompting the prime minister to resign. The party aims to pass the first   constitution. [The New York Times] \\u2022 Diwali, the Indian festival of lights, is being commemorated for the first time at the United Nations in recognition of the holiday\\u2019s celebration in member nations around the globe. The Secretariat building in New York will be lit for the holiday through tonight. \\u2022 By elevating President Xi Jinping to the title of \\u201ccore leader,\\u201d Communist Party officials have shown that, willingly or not, they\\u2019ve bowed to his dominance. \\u2022 Pen Sovann, the first prime minister of Cambodia after the brutal Khmer Rouge government, died in the country\\u2019s southern Takeo Province. He was 80. \\u2022 The first   genetic study of Rattus norvegicus, otherwise known as the brown rat, shows that the rodent evolved slowly on the cold, open plains of northern China or Mongolia, and spread globally over the last few centuries  \\u2014   largely thanks to colonialists. When ghosts and witches, Elsas and Spidermen, take the streets tonight, candy might not be the only thing collected after saying \\u201d  . \\u201d Since 1950, orange boxes with a coin slot have gone    with Halloween traditions. The change goes to Unicef, the United Nations Children\\u2019s Fund. And it is all thanks to a Pennsylvania schoolteacher who decided to follow a children\\u2019s parade led by a cow in Philadelphia. The world was still recovering from World War II in the late 1940s when the Reverend Clyde Allison and his wife, Mary Emma Allison, had their three children    not for candy, but soap and clothing for relief efforts in Europe. But the idea to give back on Halloween needed more legs. It found them when Mrs. Allison followed the parade to a department store, where a Unicef booth was taking in donations. That first year, children carried   boxes that were soon replaced with the official orange ones. Over the years the    for Unicef has raised at least $175 million, with funds going toward improving health care, clean water and education. The \\u201cconstructive approach to Halloween,\\u201d a 1955 Times article on Oct. 30 noted, encouraged American youngsters \\u201cto develop the sense of international citizenship responsibility that is essential in today\\u2019s shrinking world. \\u201d Remy Tumin contributed reporting. Your Morning Briefing is published weekday mornings. What would you like to see here? Contact us at asiabriefing@nytimes. com.\"\n        ],\n        \"semantic_type\": \"\",\n        \"description\": \"\"\n      }\n    }\n  ]\n}"
            }
          },
          "metadata": {},
          "execution_count": 10
        }
      ]
    },
    {
      "cell_type": "code",
      "source": [
        "# WordCount:\n",
        "df=A[A['label']==0]\n",
        "text=''.join(df['news'].astype(str).tolist())\n",
        "words=[word for word in text.split()]\n",
        "print('WordCount: {:,.0f}'.format(len(words)))"
      ],
      "metadata": {
        "colab": {
          "base_uri": "https://localhost:8080/"
        },
        "id": "OksTxCNOWwHw",
        "outputId": "2217a6f7-a398-41f7-d0c5-7e6408a68f8f"
      },
      "execution_count": 11,
      "outputs": [
        {
          "output_type": "stream",
          "name": "stdout",
          "text": [
            "WordCount: 9,120,482\n"
          ]
        }
      ]
    },
    {
      "cell_type": "code",
      "source": [
        "# StopWords:\n",
        "nltk.download('stopwords')\n",
        "st       =     stopwords.words('english')\n",
        "StopWords=set( STOPWORDS)\n",
        "StopWords.update(st)\n",
        "print(           st)"
      ],
      "metadata": {
        "colab": {
          "base_uri": "https://localhost:8080/"
        },
        "id": "bP9JkqnEA1Qi",
        "outputId": "4b8242e0-c3d3-4cfc-b9ca-2c4fd9530e4b"
      },
      "execution_count": 12,
      "outputs": [
        {
          "output_type": "stream",
          "name": "stdout",
          "text": [
            "['i', 'me', 'my', 'myself', 'we', 'our', 'ours', 'ourselves', 'you', \"you're\", \"you've\", \"you'll\", \"you'd\", 'your', 'yours', 'yourself', 'yourselves', 'he', 'him', 'his', 'himself', 'she', \"she's\", 'her', 'hers', 'herself', 'it', \"it's\", 'its', 'itself', 'they', 'them', 'their', 'theirs', 'themselves', 'what', 'which', 'who', 'whom', 'this', 'that', \"that'll\", 'these', 'those', 'am', 'is', 'are', 'was', 'were', 'be', 'been', 'being', 'have', 'has', 'had', 'having', 'do', 'does', 'did', 'doing', 'a', 'an', 'the', 'and', 'but', 'if', 'or', 'because', 'as', 'until', 'while', 'of', 'at', 'by', 'for', 'with', 'about', 'against', 'between', 'into', 'through', 'during', 'before', 'after', 'above', 'below', 'to', 'from', 'up', 'down', 'in', 'out', 'on', 'off', 'over', 'under', 'again', 'further', 'then', 'once', 'here', 'there', 'when', 'where', 'why', 'how', 'all', 'any', 'both', 'each', 'few', 'more', 'most', 'other', 'some', 'such', 'no', 'nor', 'not', 'only', 'own', 'same', 'so', 'than', 'too', 'very', 's', 't', 'can', 'will', 'just', 'don', \"don't\", 'should', \"should've\", 'now', 'd', 'll', 'm', 'o', 're', 've', 'y', 'ain', 'aren', \"aren't\", 'couldn', \"couldn't\", 'didn', \"didn't\", 'doesn', \"doesn't\", 'hadn', \"hadn't\", 'hasn', \"hasn't\", 'haven', \"haven't\", 'isn', \"isn't\", 'ma', 'mightn', \"mightn't\", 'mustn', \"mustn't\", 'needn', \"needn't\", 'shan', \"shan't\", 'shouldn', \"shouldn't\", 'wasn', \"wasn't\", 'weren', \"weren't\", 'won', \"won't\", 'wouldn', \"wouldn't\"]\n"
          ]
        },
        {
          "output_type": "stream",
          "name": "stderr",
          "text": [
            "[nltk_data] Downloading package stopwords to /root/nltk_data...\n",
            "[nltk_data]   Unzipping corpora/stopwords.zip.\n"
          ]
        }
      ]
    },
    {
      "cell_type": "code",
      "source": [
        "# WordCloud\n",
        "m, n=np.ogrid[:300,:300]\n",
        "mask=(m-150)**2+(n- 150)**2>130**2\n",
        "mask=   255 * mask.astype(int)\n",
        "WordCloud=WordCloud(width          =     1200 ,\n",
        "                    height         =      600 ,\n",
        "                    mask           =mask      ,\n",
        "                    stopwords      =StopWords ,\n",
        "                    mode           ='RGBA'    ,\n",
        "                    colormap       ='Accent'  ,\n",
        "                    min_word_length=        4).generate(text)\n",
        "# Vizualizing:\n",
        "fig, ax = plt.subplots()  # figsize=(15 ,  7.5)\n",
        "ax.imshow(WordCloud, interpolation ='bilinear')\n",
        "ax.set_axis_off(       )\n",
        "plt.imshow(WordCloud   )\n",
        "plt.tight_layout(      )\n",
        "plt.show(              )\n",
        "# Saving Image:\n",
        "WordCloud.to_file('WordCloudFakeNews.png');\n",
        "WordCloud.to_svg( 'WordCloudFakeNews.svg');"
      ],
      "metadata": {
        "colab": {
          "base_uri": "https://localhost:8080/",
          "height": 487
        },
        "id": "R8NNmo93cKLh",
        "outputId": "e8ebf1b0-7de9-44b1-b93f-d7ecff71dfe0"
      },
      "execution_count": 13,
      "outputs": [
        {
          "output_type": "display_data",
          "data": {
            "text/plain": [
              "<Figure size 640x480 with 1 Axes>"
            ],
            "image/png": "[encoded data removed]"
          },
          "metadata": {}
        }
      ]
    },
    {
      "cell_type": "code",
      "source": [
        "# Treating News:\n",
        "def CleanText(text):\n",
        "    words = str(text).split()\n",
        "    words = [i.lower() + '' for i in words]\n",
        "    words = ' '.join(words)\n",
        "    words = words.translate(words.maketrans('', '', string.punctuation))\n",
        "    return  words\n",
        "A['news'] =A['news'].apply(CleanText)\n",
        "E['news'] =E['news'].apply(CleanText)\n",
        "A['news'][0]"
      ],
      "metadata": {
        "colab": {
          "base_uri": "https://localhost:8080/",
          "height": 154
        },
        "id": "qmIX6Gbg-o2k",
        "outputId": "f54c5187-4b95-497e-d19a-acf0aaf72504"
      },
      "execution_count": 14,
      "outputs": [
        {
          "output_type": "execute_result",
          "data": {
            "text/plain": [
              "'house dem aide we didn’t even see comey’s letter until jason chaffetz tweeted it by darrell lucus on october 30 2016 subscribe jason chaffetz on the stump in american fork utah  image courtesy michael jolley available under a creative commonsby license with apologies to keith olbermann there is no doubt who the worst person in the world is this week–fbi director james comey but according to a house democratic aide it looks like we also know who the secondworst person is as well it turns out that when comey sent his nowinfamous letter announcing that the fbi was looking into emails that may be related to hillary clinton’s email server the ranking democrats on the relevant committees didn’t hear about it from comey they found out via a tweet from one of the republican committee chairmen as we now know comey notified the republican chairmen and democratic ranking members of the house intelligence judiciary and oversight committees that his agency was reviewing emails it had recently discovered in order to see if they contained classified information not long after this letter went out oversight committee chairman jason chaffetz set the political world ablaze with this tweet fbi dir just informed me the fbi has learned of the existence of emails that appear to be pertinent to the investigation case reopened — jason chaffetz jasoninthehouse october 28 2016 of course we now know that this was not the case  comey was actually saying that it was reviewing the emails in light of “an unrelated case”–which we now know to be anthony weiner’s sexting with a teenager but apparently such little things as facts didn’t matter to chaffetz the utah republican had already vowed to initiate a raft of investigations if hillary wins–at least two years’ worth and possibly an entire term’s worth of them apparently chaffetz thought the fbi was already doing his work for him–resulting in a tweet that briefly roiled the nation before cooler heads realized it was a dud but according to a senior house democratic aide misreading that letter may have been the least of chaffetz’ sins that aide told shareblue that his boss and other democrats didn’t even know about comey’s letter at the time–and only found out when they checked twitter “democratic ranking members on the relevant committees didn’t receive comey’s letter until after the republican chairmen in fact the democratic ranking members didn’ receive it until after the chairman of the oversight and government reform committee jason chaffetz tweeted it out and made it public” so let’s see if we’ve got this right the fbi director tells chaffetz and other gop committee chairmen about a major development in a potentially politically explosive investigation and neither chaffetz nor his other colleagues had the courtesy to let their democratic counterparts know about it instead according to this aide he made them find out about it on twitter there has already been talk on daily kos that comey himself provided advance notice of this letter to chaffetz and other republicans giving them time to turn on the spin machine that may make for good theater but there is nothing so far that even suggests this is the case after all there is nothing so far that suggests that comey was anything other than grossly incompetent and tonedeaf what it does suggest however is that chaffetz is acting in a way that makes dan burton and darrell issa look like models of responsibility and bipartisanship he didn’t even have the decency to notify ranking member elijah cummings about something this explosive if that doesn’t trample on basic standards of fairness i don’t know what does granted it’s not likely that chaffetz will have to answer for this he sits in a ridiculously republican district anchored in provo and orem it has a cook partisan voting index of r25 and gave mitt romney a punishing 78 percent of the vote in 2012 moreover the republican house leadership has given its full support to chaffetz’ planned fishing expedition but that doesn’t mean we can’t turn the hot lights on him after all he is a textbook example of what the house has become under republican control and he is also the second worst person in the world about darrell lucus darrell is a 30something graduate of the university of north carolina who considers himself a journalist of the old school an attempt to turn him into a member of the religious right in college only succeeded in turning him into the religious rights worst nightmarea charismatic christian who is an unapologetic liberal his desire to stand up for those who have been scared into silence only increased when he survived an abusive threeyear marriage you may know him on daily kos as christian dem in nc  follow him on twitter darrelllucus or connect with him on facebook  click here to buy darrell a mello yello connect'"
            ],
            "application/vnd.google.colaboratory.intrinsic+json": {
              "type": "string"
            }
          },
          "metadata": {},
          "execution_count": 14
        }
      ]
    },
    {
      "cell_type": "code",
      "source": [
        "A.head(3)"
      ],
      "metadata": {
        "colab": {
          "base_uri": "https://localhost:8080/",
          "height": 142
        },
        "id": "s27NveApUMIQ",
        "outputId": "56b88c47-c3b7-4770-fa57-49f427a09536"
      },
      "execution_count": 15,
      "outputs": [
        {
          "output_type": "execute_result",
          "data": {
            "text/plain": [
              "   label                                               news\n",
              "0      1  house dem aide we didn’t even see comey’s lett...\n",
              "1      0  ever get the feeling your life circles the rou...\n",
              "2      1  why the truth might get you fired october 29 2..."
            ],
            "text/html": [
              "\n",
              "  <div id=\"df-f349765d-5d28-461d-8881-27ac20a2ce1b\" class=\"colab-df-container\">\n",
              "    <div>\n",
              "<style scoped>\n",
              "    .dataframe tbody tr th:only-of-type {\n",
              "        vertical-align: middle;\n",
              "    }\n",
              "\n",
              "    .dataframe tbody tr th {\n",
              "        vertical-align: top;\n",
              "    }\n",
              "\n",
              "    .dataframe thead th {\n",
              "        text-align: right;\n",
              "    }\n",
              "</style>\n",
              "<table border=\"1\" class=\"dataframe\">\n",
              "  <thead>\n",
              "    <tr style=\"text-align: right;\">\n",
              "      <th></th>\n",
              "      <th>label</th>\n",
              "      <th>news</th>\n",
              "    </tr>\n",
              "  </thead>\n",
              "  <tbody>\n",
              "    <tr>\n",
              "      <th>0</th>\n",
              "      <td>1</td>\n",
              "      <td>house dem aide we didn’t even see comey’s lett...</td>\n",
              "    </tr>\n",
              "    <tr>\n",
              "      <th>1</th>\n",
              "      <td>0</td>\n",
              "      <td>ever get the feeling your life circles the rou...</td>\n",
              "    </tr>\n",
              "    <tr>\n",
              "      <th>2</th>\n",
              "      <td>1</td>\n",
              "      <td>why the truth might get you fired october 29 2...</td>\n",
              "    </tr>\n",
              "  </tbody>\n",
              "</table>\n",
              "</div>\n",
              "    <div class=\"colab-df-buttons\">\n",
              "\n",
              "  <div class=\"colab-df-container\">\n",
              "    <button class=\"colab-df-convert\" onclick=\"convertToInteractive('df-f349765d-5d28-461d-8881-27ac20a2ce1b')\"\n",
              "            title=\"Convert this dataframe to an interactive table.\"\n",
              "            style=\"display:none;\">\n",
              "\n",
              "  <svg xmlns=\"http://www.w3.org/2000/svg\" height=\"24px\" viewBox=\"0 -960 960 960\">\n",
              "    <path d=\"M120-120v-720h720v720H120Zm60-500h600v-160H180v160Zm220 220h160v-160H400v160Zm0 220h160v-160H400v160ZM180-400h160v-160H180v160Zm440 0h160v-160H620v160ZM180-180h160v-160H180v160Zm440 0h160v-160H620v160Z\"/>\n",
              "  </svg>\n",
              "    </button>\n",
              "\n",
              "  <style>\n",
              "    .colab-df-container {\n",
              "      display:flex;\n",
              "      gap: 12px;\n",
              "    }\n",
              "\n",
              "    .colab-df-convert {\n",
              "      background-color: #E8F0FE;\n",
              "      border: none;\n",
              "      border-radius: 50%;\n",
              "      cursor: pointer;\n",
              "      display: none;\n",
              "      fill: #1967D2;\n",
              "      height: 32px;\n",
              "      padding: 0 0 0 0;\n",
              "      width: 32px;\n",
              "    }\n",
              "\n",
              "    .colab-df-convert:hover {\n",
              "      background-color: #E2EBFA;\n",
              "      box-shadow: 0px 1px 2px rgba(60, 64, 67, 0.3), 0px 1px 3px 1px rgba(60, 64, 67, 0.15);\n",
              "      fill: #174EA6;\n",
              "    }\n",
              "\n",
              "    .colab-df-buttons div {\n",
              "      margin-bottom: 4px;\n",
              "    }\n",
              "\n",
              "    [theme=dark] .colab-df-convert {\n",
              "      background-color: #3B4455;\n",
              "      fill: #D2E3FC;\n",
              "    }\n",
              "\n",
              "    [theme=dark] .colab-df-convert:hover {\n",
              "      background-color: #434B5C;\n",
              "      box-shadow: 0px 1px 3px 1px rgba(0, 0, 0, 0.15);\n",
              "      filter: drop-shadow(0px 1px 2px rgba(0, 0, 0, 0.3));\n",
              "      fill: #FFFFFF;\n",
              "    }\n",
              "  </style>\n",
              "\n",
              "    <script>\n",
              "      const buttonEl =\n",
              "        document.querySelector('#df-f349765d-5d28-461d-8881-27ac20a2ce1b button.colab-df-convert');\n",
              "      buttonEl.style.display =\n",
              "        google.colab.kernel.accessAllowed ? 'block' : 'none';\n",
              "\n",
              "      async function convertToInteractive(key) {\n",
              "        const element = document.querySelector('#df-f349765d-5d28-461d-8881-27ac20a2ce1b');\n",
              "        const dataTable =\n",
              "          await google.colab.kernel.invokeFunction('convertToInteractive',\n",
              "                                                    [key], {});\n",
              "        if (!dataTable) return;\n",
              "\n",
              "        const docLinkHtml = 'Like what you see? Visit the ' +\n",
              "          '<a target=\"_blank\" href=https://colab.research.google.com/notebooks/data_table.ipynb>data table notebook</a>'\n",
              "          + ' to learn more about interactive tables.';\n",
              "        element.innerHTML = '';\n",
              "        dataTable['output_type'] = 'display_data';\n",
              "        await google.colab.output.renderOutput(dataTable, element);\n",
              "        const docLink = document.createElement('div');\n",
              "        docLink.innerHTML = docLinkHtml;\n",
              "        element.appendChild(docLink);\n",
              "      }\n",
              "    </script>\n",
              "  </div>\n",
              "\n",
              "\n",
              "<div id=\"df-4d8b40ab-0150-4449-88dd-f249be4311c4\">\n",
              "  <button class=\"colab-df-quickchart\" onclick=\"quickchart('df-4d8b40ab-0150-4449-88dd-f249be4311c4')\"\n",
              "            title=\"Suggest charts\"\n",
              "            style=\"display:none;\">\n",
              "\n",
              "<svg xmlns=\"http://www.w3.org/2000/svg\" height=\"24px\"viewBox=\"0 0 24 24\"\n",
              "     width=\"24px\">\n",
              "    <g>\n",
              "        <path d=\"M19 3H5c-1.1 0-2 .9-2 2v14c0 1.1.9 2 2 2h14c1.1 0 2-.9 2-2V5c0-1.1-.9-2-2-2zM9 17H7v-7h2v7zm4 0h-2V7h2v10zm4 0h-2v-4h2v4z\"/>\n",
              "    </g>\n",
              "</svg>\n",
              "  </button>\n",
              "\n",
              "<style>\n",
              "  .colab-df-quickchart {\n",
              "      --bg-color: #E8F0FE;\n",
              "      --fill-color: #1967D2;\n",
              "      --hover-bg-color: #E2EBFA;\n",
              "      --hover-fill-color: #174EA6;\n",
              "      --disabled-fill-color: #AAA;\n",
              "      --disabled-bg-color: #DDD;\n",
              "  }\n",
              "\n",
              "  [theme=dark] .colab-df-quickchart {\n",
              "      --bg-color: #3B4455;\n",
              "      --fill-color: #D2E3FC;\n",
              "      --hover-bg-color: #434B5C;\n",
              "      --hover-fill-color: #FFFFFF;\n",
              "      --disabled-bg-color: #3B4455;\n",
              "      --disabled-fill-color: #666;\n",
              "  }\n",
              "\n",
              "  .colab-df-quickchart {\n",
              "    background-color: var(--bg-color);\n",
              "    border: none;\n",
              "    border-radius: 50%;\n",
              "    cursor: pointer;\n",
              "    display: none;\n",
              "    fill: var(--fill-color);\n",
              "    height: 32px;\n",
              "    padding: 0;\n",
              "    width: 32px;\n",
              "  }\n",
              "\n",
              "  .colab-df-quickchart:hover {\n",
              "    background-color: var(--hover-bg-color);\n",
              "    box-shadow: 0 1px 2px rgba(60, 64, 67, 0.3), 0 1px 3px 1px rgba(60, 64, 67, 0.15);\n",
              "    fill: var(--button-hover-fill-color);\n",
              "  }\n",
              "\n",
              "  .colab-df-quickchart-complete:disabled,\n",
              "  .colab-df-quickchart-complete:disabled:hover {\n",
              "    background-color: var(--disabled-bg-color);\n",
              "    fill: var(--disabled-fill-color);\n",
              "    box-shadow: none;\n",
              "  }\n",
              "\n",
              "  .colab-df-spinner {\n",
              "    border: 2px solid var(--fill-color);\n",
              "    border-color: transparent;\n",
              "    border-bottom-color: var(--fill-color);\n",
              "    animation:\n",
              "      spin 1s steps(1) infinite;\n",
              "  }\n",
              "\n",
              "  @keyframes spin {\n",
              "    0% {\n",
              "      border-color: transparent;\n",
              "      border-bottom-color: var(--fill-color);\n",
              "      border-left-color: var(--fill-color);\n",
              "    }\n",
              "    20% {\n",
              "      border-color: transparent;\n",
              "      border-left-color: var(--fill-color);\n",
              "      border-top-color: var(--fill-color);\n",
              "    }\n",
              "    30% {\n",
              "      border-color: transparent;\n",
              "      border-left-color: var(--fill-color);\n",
              "      border-top-color: var(--fill-color);\n",
              "      border-right-color: var(--fill-color);\n",
              "    }\n",
              "    40% {\n",
              "      border-color: transparent;\n",
              "      border-right-color: var(--fill-color);\n",
              "      border-top-color: var(--fill-color);\n",
              "    }\n",
              "    60% {\n",
              "      border-color: transparent;\n",
              "      border-right-color: var(--fill-color);\n",
              "    }\n",
              "    80% {\n",
              "      border-color: transparent;\n",
              "      border-right-color: var(--fill-color);\n",
              "      border-bottom-color: var(--fill-color);\n",
              "    }\n",
              "    90% {\n",
              "      border-color: transparent;\n",
              "      border-bottom-color: var(--fill-color);\n",
              "    }\n",
              "  }\n",
              "</style>\n",
              "\n",
              "  <script>\n",
              "    async function quickchart(key) {\n",
              "      const quickchartButtonEl =\n",
              "        document.querySelector('#' + key + ' button');\n",
              "      quickchartButtonEl.disabled = true;  // To prevent multiple clicks.\n",
              "      quickchartButtonEl.classList.add('colab-df-spinner');\n",
              "      try {\n",
              "        const charts = await google.colab.kernel.invokeFunction(\n",
              "            'suggestCharts', [key], {});\n",
              "      } catch (error) {\n",
              "        console.error('Error during call to suggestCharts:', error);\n",
              "      }\n",
              "      quickchartButtonEl.classList.remove('colab-df-spinner');\n",
              "      quickchartButtonEl.classList.add('colab-df-quickchart-complete');\n",
              "    }\n",
              "    (() => {\n",
              "      let quickchartButtonEl =\n",
              "        document.querySelector('#df-4d8b40ab-0150-4449-88dd-f249be4311c4 button');\n",
              "      quickchartButtonEl.style.display =\n",
              "        google.colab.kernel.accessAllowed ? 'block' : 'none';\n",
              "    })();\n",
              "  </script>\n",
              "</div>\n",
              "\n",
              "    </div>\n",
              "  </div>\n"
            ],
            "application/vnd.google.colaboratory.intrinsic+json": {
              "type": "dataframe",
              "variable_name": "A",
              "summary": "{\n  \"name\": \"A\",\n  \"rows\": 20800,\n  \"fields\": [\n    {\n      \"column\": \"label\",\n      \"properties\": {\n        \"dtype\": \"number\",\n        \"std\": 0,\n        \"min\": 0,\n        \"max\": 1,\n        \"num_unique_values\": 2,\n        \"samples\": [\n          0,\n          1\n        ],\n        \"semantic_type\": \"\",\n        \"description\": \"\"\n      }\n    },\n    {\n      \"column\": \"news\",\n      \"properties\": {\n        \"dtype\": \"string\",\n        \"num_unique_values\": 20379,\n        \"samples\": [\n          \"55 king world news as we kick off the third week of trading in november today james turk spoke with king world news about why what donald trump faces is very different from what ronald reagan face but here is the good news\\u2026 james turk \\u201c congratulations to mr trump if his presidency is as remarkable as his election eric he could go down in history as a great president i expect that a lot of things will change because of trump that\\u2019s what voters want\\u2026 sponsored i\\u2019ve seen polls showing that 70 or more of the electorate believes the country is headed in the wrong direction a result like that cuts across party lines the last time i felt like this about the potential for major systemic change was when reagan became president in 1981 coincidentally a lot of people back then were shocked that reagan would be president just like the shock we are seeing today with trump\\u2019s victory i hope that with his performance that trump confounds his cynics just like reagan did with reagan the coming systemic changes were pretty obvious because paul volcker had already been appointed as fed chairman and had unsettled the markets by increasing interest rates that signaled a major inflationary cycle was ending the reagan presidency began a new disinflationary cycle which lasted until bush no 2 took office annual increases in monetary debasement once again became measurable and the gold price began rising in response i am not convinced at this time that we are at the end of any cycle but i nevertheless expect circumstances will indeed be different going forward my thinking is that the present cycle of monetary debasement is not going to end or even just abate as occurred with reagan the change i expect is the trend of purchasing power erosion will accelerate trump of course could change that trend he is so far making the right statements lower taxes and less regulation will indeed improve the economy a stronger economy will increase tax revenues which will be needed to fund the infrastructure spending that trump is promising but so far he seems to be ignoring a key issue the federal government\\u2019s debt has become so big it is now unmanageable to illustrate my point let\\u2019s take trump at his word that he is going to control government spending so it doesn\\u2019t increase the deficit even though he is going to increase spending for defense and infrastructure let\\u2019s assume that the increased spending in these two areas is covered by higher tax revenue from economic growth and is therefore neutral to the deficit but what if interest rates rise to a more normal 5 as some are predicting let\\u2019s assume mr trump saves money by completely eliminating the departments of commerce education housing and labor then he also eliminates the environmental protection agency and throws in some other savings by completely eliminating international assistance programs nasa and the national science foundation add it all up and trump saves about 200 billion each year that\\u2019s about equal to the additional annual interest expense on the 20 trillion federal government debt if rates rise 1 so if interest rates rise to 5 the federal deficits are going to soar to fund those deficits the federal reserve is going to have to do a lot of money printing which of course will debase the dollar by eroding its purchasing power the important point is that if the fed hikes rates then rising interest rates will borrow even more just to pay interest on its debt which creates a vicious cycle that will ultimately destroy the dollar but if interest rates stay low the fed destroys savers and capitalism because it is eliminating the incentive to save any national currency which lowers the demand for that currency and in this way too the fed ultimately destroys the dollar so in either scenario the dollar is toast but there is a solution\\u2026this will be continued tomorrow in part two of james turk\\u2019s powerful interview in the meantime for those who are interested in hearing more about the gold market and the trump shocker kwn has just released gold more and you can listen to this extraordinary interview legend art cashin on a trump presidency the new world order gold brexit the great depression and why we will see panic\",\n          \"i agree wb\\u2026that\\u2019s an awfully thin slice of ham not to have two sides\"\n        ],\n        \"semantic_type\": \"\",\n        \"description\": \"\"\n      }\n    }\n  ]\n}"
            }
          },
          "metadata": {},
          "execution_count": 15
        }
      ]
    },
    {
      "cell_type": "code",
      "source": [
        "E.head(3)"
      ],
      "metadata": {
        "colab": {
          "base_uri": "https://localhost:8080/",
          "height": 142
        },
        "id": "5gqWclvjmiMq",
        "outputId": "58545cc4-89c8-48f6-c8a1-dda19abbac7e"
      },
      "execution_count": 16,
      "outputs": [
        {
          "output_type": "execute_result",
          "data": {
            "text/plain": [
              "                                                news\n",
              "0  palo alto calif — after years of scorning the ...\n",
              "1  russian warships ready to strike terrorists ne...\n",
              "2  videos nodapl native american leaders vow to s..."
            ],
            "text/html": [
              "\n",
              "  <div id=\"df-30152f2c-b03a-4a69-8c00-8f31de833a2c\" class=\"colab-df-container\">\n",
              "    <div>\n",
              "<style scoped>\n",
              "    .dataframe tbody tr th:only-of-type {\n",
              "        vertical-align: middle;\n",
              "    }\n",
              "\n",
              "    .dataframe tbody tr th {\n",
              "        vertical-align: top;\n",
              "    }\n",
              "\n",
              "    .dataframe thead th {\n",
              "        text-align: right;\n",
              "    }\n",
              "</style>\n",
              "<table border=\"1\" class=\"dataframe\">\n",
              "  <thead>\n",
              "    <tr style=\"text-align: right;\">\n",
              "      <th></th>\n",
              "      <th>news</th>\n",
              "    </tr>\n",
              "  </thead>\n",
              "  <tbody>\n",
              "    <tr>\n",
              "      <th>0</th>\n",
              "      <td>palo alto calif — after years of scorning the ...</td>\n",
              "    </tr>\n",
              "    <tr>\n",
              "      <th>1</th>\n",
              "      <td>russian warships ready to strike terrorists ne...</td>\n",
              "    </tr>\n",
              "    <tr>\n",
              "      <th>2</th>\n",
              "      <td>videos nodapl native american leaders vow to s...</td>\n",
              "    </tr>\n",
              "  </tbody>\n",
              "</table>\n",
              "</div>\n",
              "    <div class=\"colab-df-buttons\">\n",
              "\n",
              "  <div class=\"colab-df-container\">\n",
              "    <button class=\"colab-df-convert\" onclick=\"convertToInteractive('df-30152f2c-b03a-4a69-8c00-8f31de833a2c')\"\n",
              "            title=\"Convert this dataframe to an interactive table.\"\n",
              "            style=\"display:none;\">\n",
              "\n",
              "  <svg xmlns=\"http://www.w3.org/2000/svg\" height=\"24px\" viewBox=\"0 -960 960 960\">\n",
              "    <path d=\"M120-120v-720h720v720H120Zm60-500h600v-160H180v160Zm220 220h160v-160H400v160Zm0 220h160v-160H400v160ZM180-400h160v-160H180v160Zm440 0h160v-160H620v160ZM180-180h160v-160H180v160Zm440 0h160v-160H620v160Z\"/>\n",
              "  </svg>\n",
              "    </button>\n",
              "\n",
              "  <style>\n",
              "    .colab-df-container {\n",
              "      display:flex;\n",
              "      gap: 12px;\n",
              "    }\n",
              "\n",
              "    .colab-df-convert {\n",
              "      background-color: #E8F0FE;\n",
              "      border: none;\n",
              "      border-radius: 50%;\n",
              "      cursor: pointer;\n",
              "      display: none;\n",
              "      fill: #1967D2;\n",
              "      height: 32px;\n",
              "      padding: 0 0 0 0;\n",
              "      width: 32px;\n",
              "    }\n",
              "\n",
              "    .colab-df-convert:hover {\n",
              "      background-color: #E2EBFA;\n",
              "      box-shadow: 0px 1px 2px rgba(60, 64, 67, 0.3), 0px 1px 3px 1px rgba(60, 64, 67, 0.15);\n",
              "      fill: #174EA6;\n",
              "    }\n",
              "\n",
              "    .colab-df-buttons div {\n",
              "      margin-bottom: 4px;\n",
              "    }\n",
              "\n",
              "    [theme=dark] .colab-df-convert {\n",
              "      background-color: #3B4455;\n",
              "      fill: #D2E3FC;\n",
              "    }\n",
              "\n",
              "    [theme=dark] .colab-df-convert:hover {\n",
              "      background-color: #434B5C;\n",
              "      box-shadow: 0px 1px 3px 1px rgba(0, 0, 0, 0.15);\n",
              "      filter: drop-shadow(0px 1px 2px rgba(0, 0, 0, 0.3));\n",
              "      fill: #FFFFFF;\n",
              "    }\n",
              "  </style>\n",
              "\n",
              "    <script>\n",
              "      const buttonEl =\n",
              "        document.querySelector('#df-30152f2c-b03a-4a69-8c00-8f31de833a2c button.colab-df-convert');\n",
              "      buttonEl.style.display =\n",
              "        google.colab.kernel.accessAllowed ? 'block' : 'none';\n",
              "\n",
              "      async function convertToInteractive(key) {\n",
              "        const element = document.querySelector('#df-30152f2c-b03a-4a69-8c00-8f31de833a2c');\n",
              "        const dataTable =\n",
              "          await google.colab.kernel.invokeFunction('convertToInteractive',\n",
              "                                                    [key], {});\n",
              "        if (!dataTable) return;\n",
              "\n",
              "        const docLinkHtml = 'Like what you see? Visit the ' +\n",
              "          '<a target=\"_blank\" href=https://colab.research.google.com/notebooks/data_table.ipynb>data table notebook</a>'\n",
              "          + ' to learn more about interactive tables.';\n",
              "        element.innerHTML = '';\n",
              "        dataTable['output_type'] = 'display_data';\n",
              "        await google.colab.output.renderOutput(dataTable, element);\n",
              "        const docLink = document.createElement('div');\n",
              "        docLink.innerHTML = docLinkHtml;\n",
              "        element.appendChild(docLink);\n",
              "      }\n",
              "    </script>\n",
              "  </div>\n",
              "\n",
              "\n",
              "<div id=\"df-3f5c8c79-895e-450f-ae1b-f22501ffbb01\">\n",
              "  <button class=\"colab-df-quickchart\" onclick=\"quickchart('df-3f5c8c79-895e-450f-ae1b-f22501ffbb01')\"\n",
              "            title=\"Suggest charts\"\n",
              "            style=\"display:none;\">\n",
              "\n",
              "<svg xmlns=\"http://www.w3.org/2000/svg\" height=\"24px\"viewBox=\"0 0 24 24\"\n",
              "     width=\"24px\">\n",
              "    <g>\n",
              "        <path d=\"M19 3H5c-1.1 0-2 .9-2 2v14c0 1.1.9 2 2 2h14c1.1 0 2-.9 2-2V5c0-1.1-.9-2-2-2zM9 17H7v-7h2v7zm4 0h-2V7h2v10zm4 0h-2v-4h2v4z\"/>\n",
              "    </g>\n",
              "</svg>\n",
              "  </button>\n",
              "\n",
              "<style>\n",
              "  .colab-df-quickchart {\n",
              "      --bg-color: #E8F0FE;\n",
              "      --fill-color: #1967D2;\n",
              "      --hover-bg-color: #E2EBFA;\n",
              "      --hover-fill-color: #174EA6;\n",
              "      --disabled-fill-color: #AAA;\n",
              "      --disabled-bg-color: #DDD;\n",
              "  }\n",
              "\n",
              "  [theme=dark] .colab-df-quickchart {\n",
              "      --bg-color: #3B4455;\n",
              "      --fill-color: #D2E3FC;\n",
              "      --hover-bg-color: #434B5C;\n",
              "      --hover-fill-color: #FFFFFF;\n",
              "      --disabled-bg-color: #3B4455;\n",
              "      --disabled-fill-color: #666;\n",
              "  }\n",
              "\n",
              "  .colab-df-quickchart {\n",
              "    background-color: var(--bg-color);\n",
              "    border: none;\n",
              "    border-radius: 50%;\n",
              "    cursor: pointer;\n",
              "    display: none;\n",
              "    fill: var(--fill-color);\n",
              "    height: 32px;\n",
              "    padding: 0;\n",
              "    width: 32px;\n",
              "  }\n",
              "\n",
              "  .colab-df-quickchart:hover {\n",
              "    background-color: var(--hover-bg-color);\n",
              "    box-shadow: 0 1px 2px rgba(60, 64, 67, 0.3), 0 1px 3px 1px rgba(60, 64, 67, 0.15);\n",
              "    fill: var(--button-hover-fill-color);\n",
              "  }\n",
              "\n",
              "  .colab-df-quickchart-complete:disabled,\n",
              "  .colab-df-quickchart-complete:disabled:hover {\n",
              "    background-color: var(--disabled-bg-color);\n",
              "    fill: var(--disabled-fill-color);\n",
              "    box-shadow: none;\n",
              "  }\n",
              "\n",
              "  .colab-df-spinner {\n",
              "    border: 2px solid var(--fill-color);\n",
              "    border-color: transparent;\n",
              "    border-bottom-color: var(--fill-color);\n",
              "    animation:\n",
              "      spin 1s steps(1) infinite;\n",
              "  }\n",
              "\n",
              "  @keyframes spin {\n",
              "    0% {\n",
              "      border-color: transparent;\n",
              "      border-bottom-color: var(--fill-color);\n",
              "      border-left-color: var(--fill-color);\n",
              "    }\n",
              "    20% {\n",
              "      border-color: transparent;\n",
              "      border-left-color: var(--fill-color);\n",
              "      border-top-color: var(--fill-color);\n",
              "    }\n",
              "    30% {\n",
              "      border-color: transparent;\n",
              "      border-left-color: var(--fill-color);\n",
              "      border-top-color: var(--fill-color);\n",
              "      border-right-color: var(--fill-color);\n",
              "    }\n",
              "    40% {\n",
              "      border-color: transparent;\n",
              "      border-right-color: var(--fill-color);\n",
              "      border-top-color: var(--fill-color);\n",
              "    }\n",
              "    60% {\n",
              "      border-color: transparent;\n",
              "      border-right-color: var(--fill-color);\n",
              "    }\n",
              "    80% {\n",
              "      border-color: transparent;\n",
              "      border-right-color: var(--fill-color);\n",
              "      border-bottom-color: var(--fill-color);\n",
              "    }\n",
              "    90% {\n",
              "      border-color: transparent;\n",
              "      border-bottom-color: var(--fill-color);\n",
              "    }\n",
              "  }\n",
              "</style>\n",
              "\n",
              "  <script>\n",
              "    async function quickchart(key) {\n",
              "      const quickchartButtonEl =\n",
              "        document.querySelector('#' + key + ' button');\n",
              "      quickchartButtonEl.disabled = true;  // To prevent multiple clicks.\n",
              "      quickchartButtonEl.classList.add('colab-df-spinner');\n",
              "      try {\n",
              "        const charts = await google.colab.kernel.invokeFunction(\n",
              "            'suggestCharts', [key], {});\n",
              "      } catch (error) {\n",
              "        console.error('Error during call to suggestCharts:', error);\n",
              "      }\n",
              "      quickchartButtonEl.classList.remove('colab-df-spinner');\n",
              "      quickchartButtonEl.classList.add('colab-df-quickchart-complete');\n",
              "    }\n",
              "    (() => {\n",
              "      let quickchartButtonEl =\n",
              "        document.querySelector('#df-3f5c8c79-895e-450f-ae1b-f22501ffbb01 button');\n",
              "      quickchartButtonEl.style.display =\n",
              "        google.colab.kernel.accessAllowed ? 'block' : 'none';\n",
              "    })();\n",
              "  </script>\n",
              "</div>\n",
              "\n",
              "    </div>\n",
              "  </div>\n"
            ],
            "application/vnd.google.colaboratory.intrinsic+json": {
              "type": "dataframe",
              "variable_name": "E",
              "summary": "{\n  \"name\": \"E\",\n  \"rows\": 5200,\n  \"fields\": [\n    {\n      \"column\": \"news\",\n      \"properties\": {\n        \"dtype\": \"string\",\n        \"num_unique_values\": 5125,\n        \"samples\": [\n          \"\\u00ab previous  next \\u00bb the first space photo of earth  shot from a third reich rocket in 1946 prior to 1946 the highest pictures that had ever been taken of the earth were from the explorer ii balloon in 1935 at 137 miles up the photos were understandably vague at this point our view of earth was largely based on science with a bit of support from the explorer ii photos however nothing was clear enough to be confirmed in october of 1946 the ideas of many scientists were confirmed as new heights were reached something astonishing occurred at white sands missile range in new mexico using a v2 rocket that had been captured from nazis and brought to white sands in 300 rail cars after the war a camera was shot into space the first rocket reached what is now a measly height of 65 miles at nearly five times the height of previous photos researchers now had their first view from space while the camera was destroyed plummeting back to earth at nearly 500 feet per second the film had been protected by a steel case completely untouched  fred rulli recalls after the recovery of the film \\u201cwhen they first projected them onto the screen the scientists just went nuts\\u201d speaking of the photos in 1946 he speaks of his friend who realized the importance of the day saying \\u201cdo you realize what\\u2019s going on here\\u201d many may not have they had no idea that in the years following that spectacular day the v2 rockets would reach even greater heights traveling over 100 miles up hundreds of photos were taken and researchers were ecstatic at what they had discovered today when millions of people watch pictures of the earth from cameras in outer space every day it seems a perfectly natural thing since the v2 rockets photos have been taken from the moon during the apollo 8 mission from space beyond neptune in 1990 from the voyager 1 and more recently from nasa\\u2019s lunar reconnaissance orbiter it seems as though there is not much left to discover when it comes to the surface of the earth and the photos we have captured of it however there will always be something greater there will always be something new to be found always a new way to capture beautiful more technological photos of the surface of our earth this article the first space photo of earth  shot from a third reich rocket in 1946 is free and open source you have permission to republish this article under a creative commons license with full attribution and a link to the original source on disclosetv related articles\",\n          \"turkey\\u2019s islamist president recep tayyip erdo\\u011fan has stepped up his war of words against europe accusing germany of \\u201cemploying nazi measures\\u201d against turks in germany the justice and development party akp leader levelled the accusation at chancellor angela merkel personally according to eu observer while addressing a rally in istanbul \\u201cyou are right now employing nazi measures\\u201d he declared \\u201cagainst who my turkish brother citizens in germany and brother ministers \\u201d the \\u201cmoderate islamist\\u201d was referring to the merkel administration refusing to allow the akp to organise political rallies in germany ahead of a turkish referendum on 16 april germany is home to around three million turks and erdo\\u011fan has been keen to court them as well as other european diaspora communities in support of his bid to increase executive powers chancellor merkel said the slurs broke \\u201cevery taboo\\u201d and disrespected genuine victims of the nazis she said she would consider revoking permissions for akp campaign events which have already been granted if the insults continued erdo\\u011fan has shown no signs of deescalating his rhetoric accusing the germans of \\u201charbouring terrorists\\u201d from turkey\\u2019s embattled kurdish minority turkey\\u2019s erdogan accuses germany of \\u2019harbouring terrorists\\u2019 https  pic twitter \\u2014 france 24 france24 november 3 2016 the kurds have faced brutal oppression at the hands of the erdo\\u011fan regime with the united nations criticising the turkish authorities for using summary execution rape and torture as tools of suppression and liquidating kurdish population centres in the country\\u2019s  source via associated press in recent days turkish authorities have also attacked kurds celebrating newroz a traditional new year celebration which predates islam this is how turkey\\u2019s dictator erdogan treats kurds who want to celebrate their old tradition newroz in kurdistan pic twitter \\u2014 nieuwsblog nieuwsblog march 18 2017 germany has not been alone in opposing political activities by the akp in europe with turkish migrants and dual nationals sympathetic to erdo\\u011fan rioting in the streets after the dutch government refused to allow turkish ministers to attend a rally in rotterdam dutch police used water canons to break up a crowd of more than 1 000 erdogan protesters outside the turkish consulate in rotterdam pic twitter \\u2014 dwnews dwnews march 12 2017 not every european country is holding the line however sweden and france have both succumbed to turkish pressure and allowed the akp to hold rallies in their territories \\u201dwhy should we tolerate speeches on our soil that other democracies refuse no turkish electoral campaign in france \\u201d akp metz marine https  \\u2014 marine in english marine2017en march 12 2017 erdo\\u011fan has responded to the unexpected resistance by urging turks in europe to colonise the continent \\u201chave not just three but five children\\u201d he told supporters echoing the former algerian leader houari boumediene\\u2019s infamous speech to the united nations in 1974 \\u201cone day millions of men will leave the southern hemisphere to go to the northern hemisphere\\u201d boumediene said \\u201cand they will not go there as friends because they will go there to conquer it and they will conquer it with their sons the wombs of our women will give us victory \\u201d erdo\\u011fan was less explicit saying \\u201cthe place in which you are living and working is now your homeland and new motherland stake a claim to it \\u201d turkish interior minister s\\u00fcleyman soylu has also threatened to terminate its migrant deal with the european union open its borders and \\u201csend the 15 000 refugees to europe that we don\\u2019t send each month and blow your mind\\u201d the president of the european commission juncker attempted to downplay the threat saying \\u201cit is not in turkey\\u2019s interests to have smuggling rings and bandits in charge along its coast\\u201d he added that many turks in europe are not interested in undermining their host nations asserting \\u201cnot all turks are little erdo\\u011fans \\u201d germany\\u2019s population infuriated by the islamist president organised a rally opposing any increase in his powers on 18 march turkey furious as 30 000 kurds rally in frankfurt with pkk insignia urging \\u201dno\\u201d to referendum on erdogan\\u2019s powers https  \\u2014 afp news agency afp march 18 2017\",\n          \"wikileaks has released the 34th batch of emails from the hacked account of hillary clinton\\u2019s campaign chair john podesta on the eve of the election this latest tranche includes 888 communications much of the latest emails\\u2019 content repeats from previous wikileaks releases because entire email threads are not always released at once \\u2018needy latinos\\u2019 considered for vp in one leaked email dated august 21 2015 with the subject line \\u2018needy latinos and 1 easy call\\u2019 podesta writes to clinton \\u201ca few calls you might consider making\\u201d apparently in relation to potential vice president choices podesta then names federico pena bill richardson and south carolina governor jim hodges the first two are presumably the \\u201cneedy latinos\\u201d pena former secretary of the us department of transportation under president bill clinton endorsed barack obama over clinton for the 2008 election and served as his campaign chair he is covered extensively in the email podesta goes on to say that pena\\u2019s \\u201ccabinet stints ripped up his family\\u201d and that pena \\u201cgave everything to the cause and no time to his family he went through a messy divorce in the late 90\\u2019s and was left really down and felt like noone reached out to him then so he felt pretty cut off from clinton world\\u201d podesta passing along all of this information after speaking with former secretary of the interior ken salazar gives clinton four steps in completing a call with pena writing \\u201c1 you really enjoyed seeing cindy at the chambers event and appreciate her support 2 ask him how he\\u2019s been doing 3 ask about his views on the race and what she should be doing in colorado 4 ask that he consider publicly supporting you\\u201d an email reply from hillary clinton herself reads \\u201cagree about calls just a few additional points several latinos have asked that i consider pena for vp\\u201d on richardson a former governor of new mexico and us ambassador to the un under president clinton podesta writes that a recent phone call between bill clinton and richardson went well \\u201cnot withstanding the fact that richardson can be a dick\\u201d \\u201che had a good conversation with the president and has been good in his interviews since\\u201d podesta says of richardson telling hillary that a call to richardson ahead of his upcoming appearance on nbc\\u2019s \\u2018meet the press\\u2019 might seal an endorsement donna brazile the extent of the cozy relationship between the clinton campaign and cnn was revealed in an email from the former head of the democratic national committee donna brazile which contained almost verbatim the wording of a question clinton was to be asked at a town hall in ohio sent the day before the televised event which aired on march 13 2016 clinton is given the wording for a question she will be asked regarding discrimination amongst trade unions also included is the wording of a question her opponent bernie sanders is to be asked on income inequality source\"\n        ],\n        \"semantic_type\": \"\",\n        \"description\": \"\"\n      }\n    }\n  ]\n}"
            }
          },
          "metadata": {},
          "execution_count": 16
        }
      ]
    },
    {
      "cell_type": "code",
      "source": [
        "len(A['news'][0])"
      ],
      "metadata": {
        "colab": {
          "base_uri": "https://localhost:8080/"
        },
        "id": "QY2gn3I5Vlsz",
        "outputId": "7d2d2795-4cce-4735-895c-3b8dba0cb1a3"
      },
      "execution_count": 17,
      "outputs": [
        {
          "output_type": "execute_result",
          "data": {
            "text/plain": [
              "4832"
            ]
          },
          "metadata": {},
          "execution_count": 17
        }
      ]
    },
    {
      "cell_type": "code",
      "source": [
        "ds=A.sample(frac=1).reset_index(drop=True)\n",
        "A=ds[:int(.9135*len(ds))]\n",
        "V=ds[ int(.9135*len(ds)):]\n",
        "A.shape, V.shape, E.shape"
      ],
      "metadata": {
        "colab": {
          "base_uri": "https://localhost:8080/"
        },
        "id": "yhozT9S157ML",
        "outputId": "392109c5-e63d-4a20-a78d-ad421ccb8af0"
      },
      "execution_count": 18,
      "outputs": [
        {
          "output_type": "execute_result",
          "data": {
            "text/plain": [
              "((19000, 2), (1800, 2), (5200, 1))"
            ]
          },
          "metadata": {},
          "execution_count": 18
        }
      ]
    },
    {
      "cell_type": "code",
      "source": [
        "sns.histplot(A['label'])\n",
        "sns.despine()\n",
        "plt.tight_layout()\n",
        "plt.show()"
      ],
      "metadata": {
        "colab": {
          "base_uri": "https://localhost:8080/",
          "height": 487
        },
        "id": "i16e4c3AWXxt",
        "outputId": "727a5093-3417-44a2-e84a-5a1c133ab14e"
      },
      "execution_count": 19,
      "outputs": [
        {
          "output_type": "display_data",
          "data": {
            "text/plain": [
              "<Figure size 640x480 with 1 Axes>"
            ],
            "image/png": "[encoded data removed]"
          },
          "metadata": {}
        }
      ]
    },
    {
      "cell_type": "code",
      "source": [
        "# Train & Test & Validation Split:\n",
        "# train, test       = train_test_split(df)\n",
        "# train, validation = train_test_split(train, test_size=.2)\n",
        "print('DataSet    Entries:')\n",
        "print('Train      DataSet:'  , len(A), 'entries.')\n",
        "print('Validation DataSet: ' , len(V), 'entries.')\n",
        "print('Test       DataSet: ' , len(E), 'entries.')"
      ],
      "metadata": {
        "colab": {
          "base_uri": "https://localhost:8080/"
        },
        "id": "MIzhsZmp_TlU",
        "outputId": "13f8627a-2e48-4a14-8d45-cd26632916cb"
      },
      "execution_count": 20,
      "outputs": [
        {
          "output_type": "stream",
          "name": "stdout",
          "text": [
            "DataSet    Entries:\n",
            "Train      DataSet: 19000 entries.\n",
            "Validation DataSet:  1800 entries.\n",
            "Test       DataSet:  5200 entries.\n"
          ]
        }
      ]
    },
    {
      "cell_type": "code",
      "source": [
        "# Model Data Preparation:\n",
        "num_words  =10000\n",
        "truncating ='post'\n",
        "padding    ='post'\n",
        "oov_token  ='<OOV>'\n",
        "tokenizer  = Tokenizer(num_words=num_words, oov_token=oov_token)\n",
        "tokenizer.fit_on_texts(A['news'])\n",
        "word_index = tokenizer.word_index\n",
        "# Applying Tokenizing & Padding Techniques:\n",
        "A_sequences= tokenizer.texts_to_sequences(np.array(A['news']))\n",
        "A_pad      = pad_sequences(A_sequences, truncating=truncating, padding=padding)\n",
        "maxlen               = len(A_pad[0])\n",
        "V_sequences= tokenizer.texts_to_sequences(np.array(V['news']))\n",
        "V_pad      = pad_sequences(V_sequences, truncating=truncating, padding=padding, maxlen=maxlen)\n",
        "# Creating InPut Arrays:\n",
        "X = np.copy(A_pad)\n",
        "xx= np.copy(V_pad)\n",
        "Y = A['label'].values\n",
        "yy= V['label'].values\n",
        "# Verifying Arrays Size:\n",
        "print('Arrays Sizes:')\n",
        "print('Train:', len(X), 'entries.')\n",
        "print('Reply:', len(Y), 'entries.')"
      ],
      "metadata": {
        "colab": {
          "base_uri": "https://localhost:8080/"
        },
        "id": "bDqSVvwrErS3",
        "outputId": "8a0a665a-37be-4801-c0f1-5c062527bac8"
      },
      "execution_count": 21,
      "outputs": [
        {
          "output_type": "stream",
          "name": "stdout",
          "text": [
            "Arrays Sizes:\n",
            "Train: 19000 entries.\n",
            "Reply: 19000 entries.\n"
          ]
        }
      ]
    },
    {
      "cell_type": "code",
      "source": [
        "# Model Instancing & Fitting:\n",
        "model=Sequential([Embedding(num_words, (155), input_length=maxlen),\n",
        "                  Conv1D(16, 5, activation='relu'),\n",
        "                  GlobalMaxPooling1D(),\n",
        "                  Dense( 1 ,    activation='sigmoid')], trainable=True, name='FakeNews')\n",
        "# model.compile(optimizer=Adam(learning_rate=.001), loss='binary_crossentropy', metrics=['accuracy'])\n",
        "model.compile(optimizer          = 'Adam',#(learning_rate=1e-3),\n",
        "              loss               = 'binary_crossentropy',\n",
        "              metrics            =['accuracy'],\n",
        "              weighted_metrics   =  None ,\n",
        "              run_eagerly        =  False,\n",
        "              steps_per_execution=      1,\n",
        "              jit_compile        =  None ,\n",
        "              auto_scale_loss    =  True )\n",
        "# history=model.fit(X, Y, epochs=1, verbose=1, callbacks=[EarlyStopping('val_loss', patience=6)], validation_data=(xx, yy))\n",
        "history=model.fit(  X, Y,\n",
        "                  batch_size           = None,\n",
        "                  epochs               =    2,\n",
        "                  verbose              =    1,\n",
        "                  callbacks            =[EarlyStopping('val_loss', patience=6)],\n",
        "                  validation_split     =  0.0,\n",
        "                  validation_data      =(xx  ,   yy),\n",
        "                  shuffle              = True,\n",
        "                  class_weight         = None,\n",
        "                  sample_weight        = None,\n",
        "                  initial_epoch        =    0,\n",
        "                  steps_per_epoch      = None,\n",
        "                  validation_steps     = None,\n",
        "                  validation_batch_size= None,\n",
        "                  validation_freq      =    1)"
      ],
      "metadata": {
        "colab": {
          "base_uri": "https://localhost:8080/"
        },
        "id": "Z0864Qy5G51F",
        "outputId": "f03af24a-a66a-4288-b36f-45f2a25e88e1"
      },
      "execution_count": 22,
      "outputs": [
        {
          "output_type": "stream",
          "name": "stdout",
          "text": [
            "\u001b[1m594/594\u001b[0m \u001b[32m━━━━━━━━━━━━━━━━━━━━\u001b[0m\u001b[37m\u001b[0m \u001b[1m2618s\u001b[0m 4s/step - accuracy: 0.8447 - loss: 0.3069 - val_accuracy: 0.9700 - val_loss: 0.0779\n"
          ]
        }
      ]
    },
    {
      "cell_type": "code",
      "source": [
        "# Visualisation:\n",
        "def Plot(            history,       string):\n",
        "    plt.plot(history.history[       string])\n",
        "    plt.plot(history.history['val_'+string])\n",
        "    plt.xlabel('epochs'  )\n",
        "    plt.ylabel( string   )\n",
        "    plt.legend([string   ,   'val_'+string])\n",
        "    sns.despine(         )\n",
        "    plt.tight_layout(    )\n",
        "    plt.show(            )\n",
        "Plot(history,  'accuracy')\n",
        "Plot(history,  'loss'    )"
      ],
      "metadata": {
        "colab": {
          "base_uri": "https://localhost:8080/",
          "height": 955
        },
        "id": "OD1yziaKLe8m",
        "outputId": "4fbd3d94-2be1-4be4-b490-544a7545dc2f"
      },
      "execution_count": 23,
      "outputs": [
        {
          "output_type": "display_data",
          "data": {
            "text/plain": [
              "<Figure size 640x480 with 1 Axes>"
            ],
            "image/png": "[encoded data removed]"
          },
          "metadata": {}
        },
        {
          "output_type": "display_data",
          "data": {
            "text/plain": [
              "<Figure size 640x480 with 1 Axes>"
            ],
            "image/png": "[encoded data removed]"
          },
          "metadata": {}
        }
      ]
    },
    {
      "cell_type": "code",
      "source": [
        "# Treating Test Data:\n",
        "E_sequences= tokenizer.texts_to_sequences(           np.array(E['news']))\n",
        "E_pad      = pad_sequences(E_sequences, padding=padding, truncating=truncating, maxlen=maxlen)\n",
        "# Creating Arrays:\n",
        "ee  =np.copy(E_pad)\n",
        "# Making Predictions:\n",
        "pred=np.round(model.predict(E_pad))\n",
        "# Checking Results Lenght:\n",
        "print('Lenghts:')\n",
        "print('Pred:', len(pred), 'entries.')\n",
        "print('Test:', len(ee  ), 'entries.')\n",
        "pred"
      ],
      "metadata": {
        "colab": {
          "base_uri": "https://localhost:8080/"
        },
        "id": "5_5E8n9wKriZ",
        "outputId": "9033248b-e7eb-4ce7-e419-0026409160b1"
      },
      "execution_count": 24,
      "outputs": [
        {
          "output_type": "stream",
          "name": "stdout",
          "text": [
            "\u001b[1m163/163\u001b[0m \u001b[32m━━━━━━━━━━━━━━━━━━━━\u001b[0m\u001b[37m\u001b[0m \u001b[1m142s\u001b[0m 863ms/step\n",
            "Lenghts:\n",
            "Pred: 5200 entries.\n",
            "Test: 5200 entries.\n"
          ]
        },
        {
          "output_type": "execute_result",
          "data": {
            "text/plain": [
              "array([[0.],\n",
              "       [1.],\n",
              "       [1.],\n",
              "       ...,\n",
              "       [0.],\n",
              "       [1.],\n",
              "       [0.]], dtype=float32)"
            ]
          },
          "metadata": {},
          "execution_count": 24
        }
      ]
    },
    {
      "cell_type": "code",
      "source": [
        "# Classes:\n",
        "classes=['FACT','FAKE']\n",
        "for i in range(len(classes)):\n",
        "    print(classes[i])\n",
        "    print(pred[i])"
      ],
      "metadata": {
        "colab": {
          "base_uri": "https://localhost:8080/"
        },
        "id": "ffckWj9_ScHG",
        "outputId": "91d49ffd-dff6-4958-9fb6-eddeddb1fe32"
      },
      "execution_count": 25,
      "outputs": [
        {
          "output_type": "stream",
          "name": "stdout",
          "text": [
            "FACT\n",
            "[0.]\n",
            "\n",
            "\n",
            "FAKE\n",
            "[1.]\n",
            "\n",
            "\n"
          ]
        }
      ]
    },
    {
      "cell_type": "code",
      "source": [
        "# Model Evaluation\n",
        "model.evaluate(X , Y,\n",
        "               batch_size   =None ,\n",
        "               verbose      =   1 ,\n",
        "               sample_weight=None ,\n",
        "               steps        =None ,\n",
        "               callbacks    =None ,\n",
        "               return_dict  =False)\n",
        "# Accuracy:\n",
        "A    =  np.sum(1 if i==j else 0 for i,j in zip(pred, yy))/len(V)\n",
        "print('Accuracy: {:.2f}%'.format(A*100))\n",
        "# Classification Report:\n",
        "pred =  np.round(model.predict(V_pad))\n",
        "print(pred.shape, ee.shape, yy.shape)\n",
        "print('Classification Report:\\n', classification_report(yy, pred, target_names=['FACT','FAKE']))"
      ],
      "metadata": {
        "colab": {
          "base_uri": "https://localhost:8080/"
        },
        "id": "T9BuJuTlLIMm",
        "outputId": "d6da03a5-167f-46a6-ba14-ae8cc42b3d75"
      },
      "execution_count": 26,
      "outputs": [
        {
          "output_type": "stream",
          "name": "stdout",
          "text": [
            "\u001b[1m594/594\u001b[0m \u001b[32m━━━━━━━━━━━━━━━━━━━━\u001b[0m\u001b[37m\u001b[0m \u001b[1m514s\u001b[0m 866ms/step - accuracy: 0.9815 - loss: 0.0580\n",
            "Accuracy: 47.94%\n",
            "\u001b[1m57/57\u001b[0m \u001b[32m━━━━━━━━━━━━━━━━━━━━\u001b[0m\u001b[37m\u001b[0m \u001b[1m50s\u001b[0m 874ms/step\n",
            "(1800, 1) (5200, 24195) (1800,)\n",
            "Classification Report:\n",
            "               precision    recall  f1-score   support\n",
            "\n",
            "        FACT       0.97      0.97      0.97       901\n",
            "        FAKE       0.97      0.97      0.97       899\n",
            "\n",
            "    accuracy                           0.97      1800\n",
            "   macro avg       0.97      0.97      0.97      1800\n",
            "weighted avg       0.97      0.97      0.97      1800\n",
            "\n"
          ]
        }
      ]
    },
    {
      "cell_type": "code",
      "source": [
        "# Confusion Matrix:\n",
        "def PlotCM(cm, classes,\n",
        "           normalize  = False           ,\n",
        "           title      ='ConfusionMatrix',\n",
        "           cmap       =plt.cm.binary)   :\n",
        "    plt.imshow(cm, interpolation='nearest', cmap=cmap)\n",
        "    plt.title(title)\n",
        "    plt.colorbar()\n",
        "    tick_marks = np.arange(len(classes))\n",
        "    plt.xticks(tick_marks, classes, rotation=45)\n",
        "    plt.yticks(tick_marks, classes)\n",
        "    if normalize:\n",
        "        cm = cm.astype('float')/cm.sum(axis=1)[:, np.newaxis]\n",
        "        print('Normalized Confusion Matrix:\\n')\n",
        "    else:\n",
        "        print('Confusion Matrix WithOut Normalization:\\n')\n",
        "    thresh = cm.max()/2.\n",
        "    for i in range(cm.shape[0]):\n",
        "        for j in range(cm.shape[1]):\n",
        "            plt.text(j, i, cm[i, j], horizontalalignment='center', color='#FFFFFF' if cm[i, j] > thresh else '#000000')\n",
        "    plt.tight_layout(             )\n",
        "    plt.ylabel('True Label'       )\n",
        "    plt.xlabel('Predicted Label'  )\n",
        "print('Confusion Matrix:     \\n', confusion_matrix(yy, pred))\n",
        "cm=confusion_matrix(yy, pred)\n",
        "PlotCM(cm, classes=['FAKE','FACT'])"
      ],
      "metadata": {
        "colab": {
          "base_uri": "https://localhost:8080/",
          "height": 591
        },
        "id": "NvLvx3-f112n",
        "outputId": "8d38596e-907a-4c36-d319-feac46c21f6e"
      },
      "execution_count": 27,
      "outputs": [
        {
          "output_type": "stream",
          "name": "stdout",
          "text": [
            "Confusion Matrix:     \n",
            " [[876  25]\n",
            " [ 29 870]]\n",
            "Confusion Matrix WithOut Normalization:\n",
            "\n"
          ]
        },
        {
          "output_type": "display_data",
          "data": {
            "text/plain": [
              "<Figure size 640x480 with 2 Axes>"
            ],
            "image/png": "[encoded data removed]"
          },
          "metadata": {}
        }
      ]
    },
    {
      "cell_type": "code",
      "source": [
        "# WordVector:\n",
        "v=E['news'].values\n",
        "v=TfidfVectorizer().fit_transform(v)\n",
        "print(v)"
      ],
      "metadata": {
        "colab": {
          "base_uri": "https://localhost:8080/"
        },
        "id": "XU0cktwthjDu",
        "outputId": "07f61869-5b45-4443-faf5-e0c114c177aa"
      },
      "execution_count": 28,
      "outputs": [
        {
          "output_type": "stream",
          "name": "stdout",
          "text": [
            "  (0, 57687)\t0.03285604373261829\n",
            "  (0, 5511)\t0.03233848330021517\n",
            "  (0, 13834)\t0.0228493102997528\n",
            "  (0, 4419)\t0.03600387687599734\n",
            "  (0, 87105)\t0.008444680824520321\n",
            "  (0, 55775)\t0.14095497172976704\n",
            "  (0, 69867)\t0.03716598878942039\n",
            "  (0, 78501)\t0.25348804686785187\n",
            "  (0, 60619)\t0.04097357185125983\n",
            "  (0, 62242)\t0.027160118018426237\n",
            "  (0, 72163)\t0.21601968641348493\n",
            "  (0, 83226)\t0.19063586473541785\n",
            "  (0, 35990)\t0.03473710867345132\n",
            "  (0, 45765)\t0.03145669916776149\n",
            "  (0, 41143)\t0.007657352763738909\n",
            "  (0, 31649)\t0.030093821076614305\n",
            "  (0, 62705)\t0.021543132154817117\n",
            "  (0, 61838)\t0.04183396916068581\n",
            "  (0, 24394)\t0.009843229028811368\n",
            "  (0, 80645)\t0.09426584142950699\n",
            "  (0, 41556)\t0.05019618230632696\n",
            "  (0, 63358)\t0.01858182146562701\n",
            "  (0, 77884)\t0.2510388486827686\n",
            "  (0, 17717)\t0.05700238808662426\n",
            "  (0, 79342)\t0.2492124861812042\n",
            "  :\t:\n",
            "  (5199, 32625)\t0.03484391935236763\n",
            "  (5199, 40450)\t0.06968783870473526\n",
            "  (5199, 82047)\t0.03651429103691007\n",
            "  (5199, 35333)\t0.03651429103691007\n",
            "  (5199, 51862)\t0.03651429103691007\n",
            "  (5199, 39576)\t0.03651429103691007\n",
            "  (5199, 49152)\t0.03651429103691007\n",
            "  (5199, 27549)\t0.03651429103691007\n",
            "  (5199, 20415)\t0.03651429103691007\n",
            "  (5199, 29766)\t0.03651429103691007\n",
            "  (5199, 72533)\t0.03651429103691007\n",
            "  (5199, 36832)\t0.03651429103691007\n",
            "  (5199, 13326)\t0.07302858207382014\n",
            "  (5199, 84515)\t0.03651429103691007\n",
            "  (5199, 22124)\t0.03651429103691007\n",
            "  (5199, 14448)\t0.03651429103691007\n",
            "  (5199, 20875)\t0.03651429103691007\n",
            "  (5199, 45034)\t0.03651429103691007\n",
            "  (5199, 7250)\t0.03651429103691007\n",
            "  (5199, 7987)\t0.03651429103691007\n",
            "  (5199, 70059)\t0.03651429103691007\n",
            "  (5199, 15484)\t0.03651429103691007\n",
            "  (5199, 35382)\t0.07302858207382014\n",
            "  (5199, 19357)\t0.03651429103691007\n",
            "  (5199, 47326)\t0.03651429103691007\n"
          ]
        }
      ]
    },
    {
      "cell_type": "code",
      "source": [
        "# Test Prediction:\n",
        "model.predict(v,\n",
        "              batch_size=None,\n",
        "              verbose   =   1,\n",
        "              steps     =None,\n",
        "              callbacks =None)"
      ],
      "metadata": {
        "colab": {
          "base_uri": "https://localhost:8080/"
        },
        "id": "jGwToSd8i6RY",
        "outputId": "004a5be9-0687-442e-e586-638659b714cd"
      },
      "execution_count": 29,
      "outputs": [
        {
          "output_type": "stream",
          "name": "stdout",
          "text": [
            "\u001b[1m163/163\u001b[0m \u001b[32m━━━━━━━━━━━━━━━━━━━━\u001b[0m\u001b[37m\u001b[0m \u001b[1m626s\u001b[0m 4s/step\n"
          ]
        },
        {
          "output_type": "execute_result",
          "data": {
            "text/plain": [
              "array([[0.9662003],\n",
              "       [0.9662003],\n",
              "       [0.9662003],\n",
              "       ...,\n",
              "       [0.9662003],\n",
              "       [0.9662003],\n",
              "       [0.9662003]], dtype=float32)"
            ]
          },
          "metadata": {},
          "execution_count": 29
        }
      ]
    },
    {
      "cell_type": "code",
      "source": [
        "# Submission should be a CSV file with 5200 rows/entries and a header/label.\n",
        "submit=pd.DataFrame(pred)"
      ],
      "metadata": {
        "id": "DDWOzsJsv5tn"
      },
      "execution_count": null,
      "outputs": []
    }
  ]
}